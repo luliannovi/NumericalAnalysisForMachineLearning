{
 "cells": [
  {
   "cell_type": "markdown",
   "id": "9302364b",
   "metadata": {},
   "source": [
    "# SVD decomposition with `scipy`|`numpy`\n",
    "\n",
    "Singular Value Decomposition (SVD) is a fundamental matrix factorization method in linear algebra. It is used to decompose a matrix into three simpler matrices and is widely used in various fields, including signal processing, image compression, and data analysis.\n",
    "\n",
    "SVD is important because it provides a useful way to find the best low-rank approximation of a matrix, helping to reduce the dimensionality of the data while preserving its essential features. This is especially useful in applications such as image compression, noise reduction, and recommendation systems.\n",
    "\n",
    "### Full SVD (`full_matrices = True` - default)\n",
    "Full matrices -> \n",
    "\n",
    "**input:**\n",
    "\n",
    "$A \\in \\mathbb{R}^{m\\times n}$\n",
    "\n",
    "**output:**\n",
    "\n",
    "$U \\in \\mathbb{R}^{m\\times m}, S \\in \\mathbb{R}^{m\\times n}, V \\in \\mathbb{R}^{n\\times n}$\n",
    "\n",
    "where\n",
    "- U : orthogonal matrix representing the left singular vectors of A\n",
    "- S : diagonal matrix with non-negative real numbers on the diagonal, known as singular values\n",
    "- V : the transpose of an orthogonal matrix representing the right singular vectors of A\n",
    "\n",
    "or, more precisely\n",
    "\n",
    "$\\boldsymbol{\\sigma} \\in \\mathbb{R}^{q} $\n",
    "\n",
    "where $q = \\min(m,n)$.\n"
   ]
  },
  {
   "cell_type": "code",
   "execution_count": 1,
   "id": "e9294ed1",
   "metadata": {},
   "outputs": [
    {
     "name": "stdout",
     "output_type": "stream",
     "text": [
      "U:\n",
      "[[-0.35722118  0.91066374  0.07619034  0.06450338 -0.18198606]\n",
      " [-0.39489622 -0.13933962 -0.74781941  0.51238246 -0.05358905]\n",
      " [-0.52437535 -0.36978191  0.38742672 -0.00847968 -0.66190669]\n",
      " [-0.4709441  -0.1071374   0.43940809  0.320969    0.68602672]\n",
      " [-0.46871329 -0.05530767 -0.30295581 -0.793858    0.2350663 ]]\n",
      "\n",
      "S:\n",
      "[2.72986924 0.60382468 0.48498477 0.26561346]\n",
      "\n",
      "VT:\n",
      "[[-0.27138925 -0.32092608 -0.67715787 -0.60399631]\n",
      " [ 0.60602485 -0.47819937 -0.43209134  0.46621489]\n",
      " [-0.18617459  0.67946633 -0.59392056  0.38848796]\n",
      " [ 0.72416903  0.45459577 -0.04486272 -0.5166326 ]]\n"
     ]
    }
   ],
   "source": [
    "import scipy.linalg as la\n",
    "import numpy as np\n",
    "\n",
    "A = np.random.rand(5,4)\n",
    "# Perform Singular Value Decomposition (SVD)\n",
    "U, S, VT = np.linalg.svd(A)\n",
    "\n",
    "# U, S, and VT are matrices resulting from the decomposition\n",
    "print(\"U:\") # left singular vectors of A\n",
    "print(U)\n",
    "print(\"\\nS:\") # diagonal matrix with non-negative real numbers on the diagonal, which represents the singular values of A\n",
    "print(S)\n",
    "print(\"\\nVT:\") # Right singular vectors of A\n",
    "print(VT)"
   ]
  },
  {
   "cell_type": "markdown",
   "id": "e3981cef",
   "metadata": {},
   "source": [
    "##  `linalg.diagsvd()`\n",
    "The `linalg.diagsvd(s, M, N)` function is used to construct a matrix with singular values specified by `s`.\n",
    "\n",
    "**Parameters:**\n",
    "- `s` (array_like): The singular values.\n",
    "- `M` (int): The number of rows in the output matrix.\n",
    "- `N` (int): The number of columns in the output matrix.\n",
    "\n",
    "**Example:**"
   ]
  },
  {
   "cell_type": "code",
   "execution_count": 1,
   "id": "73e8fd0e",
   "metadata": {},
   "outputs": [
    {
     "name": "stdout",
     "output_type": "stream",
     "text": [
      "[[2.  0.  0. ]\n",
      " [0.  1.  0. ]\n",
      " [0.  0.  0.5]\n",
      " [0.  0.  0. ]]\n"
     ]
    }
   ],
   "source": [
    "import numpy as np\n",
    "from scipy.linalg import diagsvd\n",
    "\n",
    "# Define singular values\n",
    "s = [2.0, 1.0, 0.5]\n",
    "\n",
    "# Create a matrix with singular values\n",
    "matrix = diagsvd(s, 4, 3)\n",
    "print(matrix)"
   ]
  },
  {
   "cell_type": "code",
   "execution_count": null,
   "id": "6933c07a",
   "metadata": {},
   "outputs": [],
   "source": []
  }
 ],
 "metadata": {
  "kernelspec": {
   "display_name": "Python 3 (ipykernel)",
   "language": "python",
   "name": "python3"
  },
  "language_info": {
   "codemirror_mode": {
    "name": "ipython",
    "version": 3
   },
   "file_extension": ".py",
   "mimetype": "text/x-python",
   "name": "python",
   "nbconvert_exporter": "python",
   "pygments_lexer": "ipython3",
   "version": "3.11.4"
  }
 },
 "nbformat": 4,
 "nbformat_minor": 5
}
