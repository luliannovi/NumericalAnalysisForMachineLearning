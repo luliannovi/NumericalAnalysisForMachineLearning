{
 "cells": [
  {
   "cell_type": "markdown",
   "id": "5c59a45a",
   "metadata": {},
   "source": [
    "# Numpy\n",
    "**NumPy** is a Python library that provides support for multidimensional arrays and matrices, along with a vast collection of mathematical functions to operate on these arrays.\n",
    "## 1. Creating a Matrix\n",
    "\n",
    "**Example:**"
   ]
  },
  {
   "cell_type": "code",
   "execution_count": 2,
   "id": "212b2518",
   "metadata": {},
   "outputs": [],
   "source": [
    "import numpy as np\n",
    "\n",
    "# Creating a matrix from a list\n",
    "my_matrix = np.array([[1, 2, 3], [4, 5, 6], [7, 8, 9]])\n",
    "\n",
    "# Creating a matrix of zeros\n",
    "zeros_matrix = np.zeros((2, 3))\n",
    "\n",
    "# Creating a matrix of ones\n",
    "ones_matrix = np.ones((3, 2))\n",
    "\n",
    "# Creating a matrix with random values\n",
    "random_matrix = np.random.random((2, 2))\n",
    "\n",
    "# Get the shape of the array\n",
    "array_shape = arr.shape\n",
    "print(array_shape)"
   ]
  },
  {
   "cell_type": "markdown",
   "id": "10fe85d4",
   "metadata": {},
   "source": [
    "## 2. Operations"
   ]
  },
  {
   "cell_type": "code",
   "execution_count": 8,
   "id": "bd8221a3",
   "metadata": {},
   "outputs": [
    {
     "name": "stdout",
     "output_type": "stream",
     "text": [
      "L2 Norm: 5.477225575051661\n",
      "L1 Norm: 6.0\n"
     ]
    }
   ],
   "source": [
    "a = np.array([[1, 2], [3, 4]])\n",
    "b = np.array([[5, 6], [7, 8]])\n",
    "\n",
    "# Matrix addition\n",
    "c = np.add(a, b)\n",
    "\n",
    "# Extract the diagonal elements\n",
    "diagonal_elements = np.diag(a)\n",
    "\n",
    "# Matrix multiplication (vectorial product)\n",
    "d = np.dot(a, b)\n",
    "\n",
    "# Transposition of a matrix\n",
    "e = np.transpose(a)\n",
    "\n",
    "# Matrix multiplication\n",
    "matmul_result = np.matmul(a, b)\n",
    "\n",
    "# Matrix inversion\n",
    "inverse_matrix = np.linalg.inv(a)\n",
    "\n",
    "# Determinant of the matrix\n",
    "determinant = np.linalg.det(a)\n",
    "\n",
    "# Compute eigenvalues and eigenvectors\n",
    "eigenvalues, eigenvectors = np.linalg.eig(a)\n",
    "\n",
    "# Compute L2 norm (Euclidean norm)\n",
    "l2_norm = np.linalg.norm(a)\n",
    "print(\"L2 Norm:\", l2_norm)\n",
    "\n",
    "# Compute L1 norm (Manhattan norm)\n",
    "l1_norm = np.linalg.norm(a, ord=1)\n",
    "print(\"L1 Norm:\", l1_norm)"
   ]
  },
  {
   "cell_type": "markdown",
   "id": "e35e5fcf",
   "metadata": {},
   "source": [
    "## 3. Statistical Operations\n",
    "NumPy provides functions for calculating basic statistics such as mean, median, standard deviation, and more."
   ]
  },
  {
   "cell_type": "code",
   "execution_count": 5,
   "id": "dc963a8c",
   "metadata": {},
   "outputs": [],
   "source": [
    "# Mean of all elements\n",
    "mean_value = np.mean(a)\n",
    "\n",
    "# Median of all elements\n",
    "median_value = np.median(a)\n",
    "\n",
    "# Standard deviation of all elements\n",
    "std_value = np.std(a)"
   ]
  },
  {
   "cell_type": "code",
   "execution_count": null,
   "id": "290100be",
   "metadata": {},
   "outputs": [],
   "source": []
  }
 ],
 "metadata": {
  "kernelspec": {
   "display_name": "Python 3 (ipykernel)",
   "language": "python",
   "name": "python3"
  },
  "language_info": {
   "codemirror_mode": {
    "name": "ipython",
    "version": 3
   },
   "file_extension": ".py",
   "mimetype": "text/x-python",
   "name": "python",
   "nbconvert_exporter": "python",
   "pygments_lexer": "ipython3",
   "version": "3.11.5"
  }
 },
 "nbformat": 4,
 "nbformat_minor": 5
}
