{
 "cells": [
  {
   "cell_type": "markdown",
   "metadata": {
    "id": "VKvkeUvRrBtr"
   },
   "source": [
    "# California Housing data from 1990 US Census\n",
    "\n",
    "In this lab we will rely on [Pandas](https://pandas.pydata.org/) and [Seaborn](http://seaborn.pydata.org/) to inspect and visualize data."
   ]
  },
  {
   "cell_type": "code",
   "execution_count": 1,
   "metadata": {
    "executionInfo": {
     "elapsed": 3425,
     "status": "ok",
     "timestamp": 1669930377648,
     "user": {
      "displayName": "Francesco Regazzoni",
      "userId": "08593163129562527691"
     },
     "user_tz": -60
    },
    "id": "Si_DpGyVWZ5I"
   },
   "outputs": [],
   "source": [
    "import numpy as np\n",
    "import matplotlib.pyplot as plt\n",
    "import pandas as pd\n",
    "import seaborn as sns\n",
    "import time\n",
    "import jax.numpy as jnp\n",
    "import jax"
   ]
  },
  {
   "cell_type": "markdown",
   "metadata": {
    "id": "tORMQT4qrH9C"
   },
   "source": [
    "Load the dataset."
   ]
  },
  {
   "cell_type": "code",
   "execution_count": 2,
   "metadata": {
    "executionInfo": {
     "elapsed": 40,
     "status": "ok",
     "timestamp": 1669930377656,
     "user": {
      "displayName": "Francesco Regazzoni",
      "userId": "08593163129562527691"
     },
     "user_tz": -60
    },
    "id": "PlhHDjBZmRWl"
   },
   "outputs": [],
   "source": [
    "data = pd.read_csv('california_housing_train.csv')"
   ]
  },
  {
   "cell_type": "markdown",
   "metadata": {
    "id": "8exyJVturUOy"
   },
   "source": [
    "## Data inspection\n",
    "\n",
    "Display some basic information."
   ]
  },
  {
   "cell_type": "code",
   "execution_count": 3,
   "metadata": {
    "colab": {
     "base_uri": "https://localhost:8080/",
     "height": 206
    },
    "executionInfo": {
     "elapsed": 38,
     "status": "ok",
     "timestamp": 1669930377657,
     "user": {
      "displayName": "Francesco Regazzoni",
      "userId": "08593163129562527691"
     },
     "user_tz": -60
    },
    "id": "apJCc1IPrTyp",
    "outputId": "6eddd510-4ff4-4b5c-e622-1f7e4274780d"
   },
   "outputs": [
    {
     "data": {
      "text/html": [
       "<div>\n",
       "<style scoped>\n",
       "    .dataframe tbody tr th:only-of-type {\n",
       "        vertical-align: middle;\n",
       "    }\n",
       "\n",
       "    .dataframe tbody tr th {\n",
       "        vertical-align: top;\n",
       "    }\n",
       "\n",
       "    .dataframe thead th {\n",
       "        text-align: right;\n",
       "    }\n",
       "</style>\n",
       "<table border=\"1\" class=\"dataframe\">\n",
       "  <thead>\n",
       "    <tr style=\"text-align: right;\">\n",
       "      <th></th>\n",
       "      <th>longitude</th>\n",
       "      <th>latitude</th>\n",
       "      <th>housing_median_age</th>\n",
       "      <th>total_rooms</th>\n",
       "      <th>total_bedrooms</th>\n",
       "      <th>population</th>\n",
       "      <th>households</th>\n",
       "      <th>median_income</th>\n",
       "      <th>median_house_value</th>\n",
       "    </tr>\n",
       "  </thead>\n",
       "  <tbody>\n",
       "    <tr>\n",
       "      <th>0</th>\n",
       "      <td>-114.31</td>\n",
       "      <td>34.19</td>\n",
       "      <td>15.0</td>\n",
       "      <td>5612.0</td>\n",
       "      <td>1283.0</td>\n",
       "      <td>1015.0</td>\n",
       "      <td>472.0</td>\n",
       "      <td>1.4936</td>\n",
       "      <td>66900.0</td>\n",
       "    </tr>\n",
       "    <tr>\n",
       "      <th>1</th>\n",
       "      <td>-114.47</td>\n",
       "      <td>34.40</td>\n",
       "      <td>19.0</td>\n",
       "      <td>7650.0</td>\n",
       "      <td>1901.0</td>\n",
       "      <td>1129.0</td>\n",
       "      <td>463.0</td>\n",
       "      <td>1.8200</td>\n",
       "      <td>80100.0</td>\n",
       "    </tr>\n",
       "    <tr>\n",
       "      <th>2</th>\n",
       "      <td>-114.56</td>\n",
       "      <td>33.69</td>\n",
       "      <td>17.0</td>\n",
       "      <td>720.0</td>\n",
       "      <td>174.0</td>\n",
       "      <td>333.0</td>\n",
       "      <td>117.0</td>\n",
       "      <td>1.6509</td>\n",
       "      <td>85700.0</td>\n",
       "    </tr>\n",
       "    <tr>\n",
       "      <th>3</th>\n",
       "      <td>-114.57</td>\n",
       "      <td>33.64</td>\n",
       "      <td>14.0</td>\n",
       "      <td>1501.0</td>\n",
       "      <td>337.0</td>\n",
       "      <td>515.0</td>\n",
       "      <td>226.0</td>\n",
       "      <td>3.1917</td>\n",
       "      <td>73400.0</td>\n",
       "    </tr>\n",
       "    <tr>\n",
       "      <th>4</th>\n",
       "      <td>-114.57</td>\n",
       "      <td>33.57</td>\n",
       "      <td>20.0</td>\n",
       "      <td>1454.0</td>\n",
       "      <td>326.0</td>\n",
       "      <td>624.0</td>\n",
       "      <td>262.0</td>\n",
       "      <td>1.9250</td>\n",
       "      <td>65500.0</td>\n",
       "    </tr>\n",
       "  </tbody>\n",
       "</table>\n",
       "</div>"
      ],
      "text/plain": [
       "   longitude  latitude  housing_median_age  total_rooms  total_bedrooms  \\\n",
       "0    -114.31     34.19                15.0       5612.0          1283.0   \n",
       "1    -114.47     34.40                19.0       7650.0          1901.0   \n",
       "2    -114.56     33.69                17.0        720.0           174.0   \n",
       "3    -114.57     33.64                14.0       1501.0           337.0   \n",
       "4    -114.57     33.57                20.0       1454.0           326.0   \n",
       "\n",
       "   population  households  median_income  median_house_value  \n",
       "0      1015.0       472.0         1.4936             66900.0  \n",
       "1      1129.0       463.0         1.8200             80100.0  \n",
       "2       333.0       117.0         1.6509             85700.0  \n",
       "3       515.0       226.0         3.1917             73400.0  \n",
       "4       624.0       262.0         1.9250             65500.0  "
      ]
     },
     "execution_count": 3,
     "metadata": {},
     "output_type": "execute_result"
    }
   ],
   "source": [
    "data.head()"
   ]
  },
  {
   "cell_type": "code",
   "execution_count": 4,
   "metadata": {
    "colab": {
     "base_uri": "https://localhost:8080/"
    },
    "executionInfo": {
     "elapsed": 35,
     "status": "ok",
     "timestamp": 1669930377657,
     "user": {
      "displayName": "Francesco Regazzoni",
      "userId": "08593163129562527691"
     },
     "user_tz": -60
    },
    "id": "66g2s9v9nFLh",
    "outputId": "d84bce4d-483a-44ed-9525-e1dc4d3b5350"
   },
   "outputs": [
    {
     "name": "stdout",
     "output_type": "stream",
     "text": [
      "<class 'pandas.core.frame.DataFrame'>\n",
      "RangeIndex: 17000 entries, 0 to 16999\n",
      "Data columns (total 9 columns):\n",
      " #   Column              Non-Null Count  Dtype  \n",
      "---  ------              --------------  -----  \n",
      " 0   longitude           17000 non-null  float64\n",
      " 1   latitude            17000 non-null  float64\n",
      " 2   housing_median_age  17000 non-null  float64\n",
      " 3   total_rooms         17000 non-null  float64\n",
      " 4   total_bedrooms      17000 non-null  float64\n",
      " 5   population          17000 non-null  float64\n",
      " 6   households          17000 non-null  float64\n",
      " 7   median_income       17000 non-null  float64\n",
      " 8   median_house_value  17000 non-null  float64\n",
      "dtypes: float64(9)\n",
      "memory usage: 1.2 MB\n"
     ]
    }
   ],
   "source": [
    "data.info()"
   ]
  },
  {
   "cell_type": "code",
   "execution_count": 5,
   "metadata": {
    "colab": {
     "base_uri": "https://localhost:8080/",
     "height": 300
    },
    "executionInfo": {
     "elapsed": 29,
     "status": "ok",
     "timestamp": 1669930377659,
     "user": {
      "displayName": "Francesco Regazzoni",
      "userId": "08593163129562527691"
     },
     "user_tz": -60
    },
    "id": "iXDJ4ARqnPfY",
    "outputId": "4d9a379d-bf28-406c-eed6-3d81146d3a3e"
   },
   "outputs": [
    {
     "data": {
      "text/html": [
       "<div>\n",
       "<style scoped>\n",
       "    .dataframe tbody tr th:only-of-type {\n",
       "        vertical-align: middle;\n",
       "    }\n",
       "\n",
       "    .dataframe tbody tr th {\n",
       "        vertical-align: top;\n",
       "    }\n",
       "\n",
       "    .dataframe thead th {\n",
       "        text-align: right;\n",
       "    }\n",
       "</style>\n",
       "<table border=\"1\" class=\"dataframe\">\n",
       "  <thead>\n",
       "    <tr style=\"text-align: right;\">\n",
       "      <th></th>\n",
       "      <th>longitude</th>\n",
       "      <th>latitude</th>\n",
       "      <th>housing_median_age</th>\n",
       "      <th>total_rooms</th>\n",
       "      <th>total_bedrooms</th>\n",
       "      <th>population</th>\n",
       "      <th>households</th>\n",
       "      <th>median_income</th>\n",
       "      <th>median_house_value</th>\n",
       "    </tr>\n",
       "  </thead>\n",
       "  <tbody>\n",
       "    <tr>\n",
       "      <th>count</th>\n",
       "      <td>17000.000000</td>\n",
       "      <td>17000.000000</td>\n",
       "      <td>17000.000000</td>\n",
       "      <td>17000.000000</td>\n",
       "      <td>17000.000000</td>\n",
       "      <td>17000.000000</td>\n",
       "      <td>17000.000000</td>\n",
       "      <td>17000.000000</td>\n",
       "      <td>17000.000000</td>\n",
       "    </tr>\n",
       "    <tr>\n",
       "      <th>mean</th>\n",
       "      <td>-119.562108</td>\n",
       "      <td>35.625225</td>\n",
       "      <td>28.589353</td>\n",
       "      <td>2643.664412</td>\n",
       "      <td>539.410824</td>\n",
       "      <td>1429.573941</td>\n",
       "      <td>501.221941</td>\n",
       "      <td>3.883578</td>\n",
       "      <td>207300.912353</td>\n",
       "    </tr>\n",
       "    <tr>\n",
       "      <th>std</th>\n",
       "      <td>2.005166</td>\n",
       "      <td>2.137340</td>\n",
       "      <td>12.586937</td>\n",
       "      <td>2179.947071</td>\n",
       "      <td>421.499452</td>\n",
       "      <td>1147.852959</td>\n",
       "      <td>384.520841</td>\n",
       "      <td>1.908157</td>\n",
       "      <td>115983.764387</td>\n",
       "    </tr>\n",
       "    <tr>\n",
       "      <th>min</th>\n",
       "      <td>-124.350000</td>\n",
       "      <td>32.540000</td>\n",
       "      <td>1.000000</td>\n",
       "      <td>2.000000</td>\n",
       "      <td>1.000000</td>\n",
       "      <td>3.000000</td>\n",
       "      <td>1.000000</td>\n",
       "      <td>0.499900</td>\n",
       "      <td>14999.000000</td>\n",
       "    </tr>\n",
       "    <tr>\n",
       "      <th>25%</th>\n",
       "      <td>-121.790000</td>\n",
       "      <td>33.930000</td>\n",
       "      <td>18.000000</td>\n",
       "      <td>1462.000000</td>\n",
       "      <td>297.000000</td>\n",
       "      <td>790.000000</td>\n",
       "      <td>282.000000</td>\n",
       "      <td>2.566375</td>\n",
       "      <td>119400.000000</td>\n",
       "    </tr>\n",
       "    <tr>\n",
       "      <th>50%</th>\n",
       "      <td>-118.490000</td>\n",
       "      <td>34.250000</td>\n",
       "      <td>29.000000</td>\n",
       "      <td>2127.000000</td>\n",
       "      <td>434.000000</td>\n",
       "      <td>1167.000000</td>\n",
       "      <td>409.000000</td>\n",
       "      <td>3.544600</td>\n",
       "      <td>180400.000000</td>\n",
       "    </tr>\n",
       "    <tr>\n",
       "      <th>75%</th>\n",
       "      <td>-118.000000</td>\n",
       "      <td>37.720000</td>\n",
       "      <td>37.000000</td>\n",
       "      <td>3151.250000</td>\n",
       "      <td>648.250000</td>\n",
       "      <td>1721.000000</td>\n",
       "      <td>605.250000</td>\n",
       "      <td>4.767000</td>\n",
       "      <td>265000.000000</td>\n",
       "    </tr>\n",
       "    <tr>\n",
       "      <th>max</th>\n",
       "      <td>-114.310000</td>\n",
       "      <td>41.950000</td>\n",
       "      <td>52.000000</td>\n",
       "      <td>37937.000000</td>\n",
       "      <td>6445.000000</td>\n",
       "      <td>35682.000000</td>\n",
       "      <td>6082.000000</td>\n",
       "      <td>15.000100</td>\n",
       "      <td>500001.000000</td>\n",
       "    </tr>\n",
       "  </tbody>\n",
       "</table>\n",
       "</div>"
      ],
      "text/plain": [
       "          longitude      latitude  housing_median_age   total_rooms  \\\n",
       "count  17000.000000  17000.000000        17000.000000  17000.000000   \n",
       "mean    -119.562108     35.625225           28.589353   2643.664412   \n",
       "std        2.005166      2.137340           12.586937   2179.947071   \n",
       "min     -124.350000     32.540000            1.000000      2.000000   \n",
       "25%     -121.790000     33.930000           18.000000   1462.000000   \n",
       "50%     -118.490000     34.250000           29.000000   2127.000000   \n",
       "75%     -118.000000     37.720000           37.000000   3151.250000   \n",
       "max     -114.310000     41.950000           52.000000  37937.000000   \n",
       "\n",
       "       total_bedrooms    population    households  median_income  \\\n",
       "count    17000.000000  17000.000000  17000.000000   17000.000000   \n",
       "mean       539.410824   1429.573941    501.221941       3.883578   \n",
       "std        421.499452   1147.852959    384.520841       1.908157   \n",
       "min          1.000000      3.000000      1.000000       0.499900   \n",
       "25%        297.000000    790.000000    282.000000       2.566375   \n",
       "50%        434.000000   1167.000000    409.000000       3.544600   \n",
       "75%        648.250000   1721.000000    605.250000       4.767000   \n",
       "max       6445.000000  35682.000000   6082.000000      15.000100   \n",
       "\n",
       "       median_house_value  \n",
       "count        17000.000000  \n",
       "mean        207300.912353  \n",
       "std         115983.764387  \n",
       "min          14999.000000  \n",
       "25%         119400.000000  \n",
       "50%         180400.000000  \n",
       "75%         265000.000000  \n",
       "max         500001.000000  "
      ]
     },
     "execution_count": 5,
     "metadata": {},
     "output_type": "execute_result"
    }
   ],
   "source": [
    "data.describe()"
   ]
  },
  {
   "cell_type": "markdown",
   "metadata": {
    "id": "_GN6DWxerbXy"
   },
   "source": [
    "We are interested in predicting the field `median_house_value`. Plot its distribution."
   ]
  },
  {
   "cell_type": "code",
   "execution_count": null,
   "metadata": {
    "colab": {
     "base_uri": "https://localhost:8080/",
     "height": 365
    },
    "executionInfo": {
     "elapsed": 492,
     "status": "ok",
     "timestamp": 1669930378124,
     "user": {
      "displayName": "Francesco Regazzoni",
      "userId": "08593163129562527691"
     },
     "user_tz": -60
    },
    "id": "wPG0IsEWnWlN",
    "outputId": "f5d7b9a7-b2af-4a77-ce9c-ead24521c490"
   },
   "outputs": [],
   "source": [
    "sns.distplot(data['median_house_value'])"
   ]
  },
  {
   "cell_type": "markdown",
   "metadata": {
    "id": "PrVPuS5drjVo"
   },
   "source": [
    "It looks like the distribution tail has been truncated. Get rid of it to ease the prediction."
   ]
  },
  {
   "cell_type": "code",
   "execution_count": null,
   "metadata": {
    "colab": {
     "base_uri": "https://localhost:8080/",
     "height": 365
    },
    "executionInfo": {
     "elapsed": 661,
     "status": "ok",
     "timestamp": 1669930378777,
     "user": {
      "displayName": "Francesco Regazzoni",
      "userId": "08593163129562527691"
     },
     "user_tz": -60
    },
    "id": "55_JIe0HTOjU",
    "outputId": "fbe10a54-f416-4fab-eaeb-3b47d504dfc8"
   },
   "outputs": [],
   "source": [
    "data = data[data['median_house_value'] < 500001]\n",
    "sns.distplot(data['median_house_value'])"
   ]
  },
  {
   "cell_type": "markdown",
   "metadata": {
    "id": "8ek1Wpq5r38f"
   },
   "source": [
    "Use a scatterplot to visualize the geograhical distribution of the houses."
   ]
  },
  {
   "cell_type": "code",
   "execution_count": null,
   "metadata": {
    "colab": {
     "base_uri": "https://localhost:8080/",
     "height": 297
    },
    "executionInfo": {
     "elapsed": 3904,
     "status": "ok",
     "timestamp": 1669930382671,
     "user": {
      "displayName": "Francesco Regazzoni",
      "userId": "08593163129562527691"
     },
     "user_tz": -60
    },
    "id": "8dRiIxafneRv",
    "outputId": "cd74e7e0-8915-40d8-9213-d5b9a922ddc5"
   },
   "outputs": [],
   "source": [
    "sns.scatterplot(data = data, x='longitude' ,y='latitude', hue='median_house_value')"
   ]
  },
  {
   "cell_type": "markdown",
   "metadata": {
    "id": "JHwjE_v4r-CA"
   },
   "source": [
    "Look for linear correlations among features."
   ]
  },
  {
   "cell_type": "code",
   "execution_count": null,
   "metadata": {
    "colab": {
     "base_uri": "https://localhost:8080/",
     "height": 332
    },
    "executionInfo": {
     "elapsed": 28,
     "status": "ok",
     "timestamp": 1669930382674,
     "user": {
      "displayName": "Francesco Regazzoni",
      "userId": "08593163129562527691"
     },
     "user_tz": -60
    },
    "id": "tBNLx91znnpu",
    "outputId": "abecf4d1-fb77-4741-b346-d9ab491fa5e1"
   },
   "outputs": [],
   "source": [
    "data.corr()"
   ]
  },
  {
   "cell_type": "code",
   "execution_count": null,
   "metadata": {
    "colab": {
     "base_uri": "https://localhost:8080/",
     "height": 383
    },
    "executionInfo": {
     "elapsed": 959,
     "status": "ok",
     "timestamp": 1669930383612,
     "user": {
      "displayName": "Francesco Regazzoni",
      "userId": "08593163129562527691"
     },
     "user_tz": -60
    },
    "id": "vYkJHwf_np_j",
    "outputId": "ffee4eca-8732-4a5f-f360-6dd54c3f3acb"
   },
   "outputs": [],
   "source": [
    "sns.heatmap(data.corr(), annot = True, cmap = 'vlag_r', vmin = -1, vmax = 1)"
   ]
  },
  {
   "cell_type": "code",
   "execution_count": null,
   "metadata": {
    "colab": {
     "base_uri": "https://localhost:8080/",
     "height": 297
    },
    "executionInfo": {
     "elapsed": 1214,
     "status": "ok",
     "timestamp": 1669930384819,
     "user": {
      "displayName": "Francesco Regazzoni",
      "userId": "08593163129562527691"
     },
     "user_tz": -60
    },
    "id": "3LNH8bJITYXy",
    "outputId": "c9bbb4b7-c831-4e7d-8df5-74281c1ed8eb"
   },
   "outputs": [],
   "source": [
    "sns.scatterplot(data = data, x='latitude' ,y='median_house_value')"
   ]
  },
  {
   "cell_type": "markdown",
   "metadata": {
    "id": "UJc_xoA3vLiv"
   },
   "source": [
    "## Data normalization\n",
    "\n",
    "Apply an affine transformation to the data, so that each feature has zero mean and unitary standard deviation."
   ]
  },
  {
   "cell_type": "code",
   "execution_count": null,
   "metadata": {
    "colab": {
     "base_uri": "https://localhost:8080/",
     "height": 300
    },
    "executionInfo": {
     "elapsed": 566,
     "status": "ok",
     "timestamp": 1669930385377,
     "user": {
      "displayName": "Francesco Regazzoni",
      "userId": "08593163129562527691"
     },
     "user_tz": -60
    },
    "id": "9eVFn6wkpDk7",
    "outputId": "66e2d876-5053-4820-af11-9c441b4596b3"
   },
   "outputs": [],
   "source": [
    "data_mean = data.mean()\n",
    "data_std = data.std()\n",
    "data_normalized = (data - data_mean) / data_std\n",
    "\n",
    "data_normalized.describe()"
   ]
  },
  {
   "cell_type": "code",
   "execution_count": null,
   "metadata": {
    "colab": {
     "base_uri": "https://localhost:8080/",
     "height": 393
    },
    "executionInfo": {
     "elapsed": 1259,
     "status": "ok",
     "timestamp": 1669930386616,
     "user": {
      "displayName": "Francesco Regazzoni",
      "userId": "08593163129562527691"
     },
     "user_tz": -60
    },
    "id": "tfyO7bropWw7",
    "outputId": "65eecd96-94dc-4e03-acdc-70cca795d47e"
   },
   "outputs": [],
   "source": [
    "_, ax = plt.subplots(figsize=(16,6))\n",
    "sns.violinplot(data = data_normalized, ax = ax)"
   ]
  },
  {
   "cell_type": "markdown",
   "metadata": {
    "id": "2-Hzcd6RvrHK"
   },
   "source": [
    "## Train-validation split\n",
    "\n",
    "Shuffle the data (**hint:** use the [np.random.shuffle](https://numpy.org/doc/stable/reference/random/generated/numpy.random.shuffle.html) function) and split the data as follows:\n",
    "- put 80% in the train dataset\n",
    "- put 20% in the validation dataset"
   ]
  },
  {
   "cell_type": "code",
   "execution_count": null,
   "metadata": {
    "executionInfo": {
     "elapsed": 394,
     "status": "ok",
     "timestamp": 1669930387004,
     "user": {
      "displayName": "Francesco Regazzoni",
      "userId": "08593163129562527691"
     },
     "user_tz": -60
    },
    "id": "dT4j1Jb1AWWi"
   },
   "outputs": [],
   "source": [
    "np.random.seed(0) # for reproducibility\n",
    "data_normalized_np = data_normalized.to_numpy()\n",
    "np.random.shuffle(data_normalized_np)\n",
    "\n",
    "fraction_validation = 0.2\n",
    "num_train = int(data_normalized_np.shape[0] * (1 - fraction_validation))\n",
    "x_train = data_normalized_np[:num_train,:-1]\n",
    "y_train = data_normalized_np[:num_train,-1:]\n",
    "x_valid = data_normalized_np[num_train:,:-1]\n",
    "y_valid = data_normalized_np[num_train:,-1:]"
   ]
  },
  {
   "cell_type": "markdown",
   "metadata": {
    "id": "Lz8v0XDnwLqw"
   },
   "source": [
    "## ANN setup\n",
    "\n",
    "Write a function `initialize_params` that, given the input `layers_size = [n1, n2, ..., nL]`, generates the parameters associated with an ANN, having as many layers as the number of elements of `layers_size`, with as many neurons as `n1`, `n2`, etc.\n",
    "\n",
    "To initialize the parameters, employ the following strategy:\n",
    "- Inizialize the biases with zero value.\n",
    "- Inizialize the weights sampling from a Gaussian distribution with zero mean and with standard deviation \n",
    "$$\n",
    "\\sqrt{\\frac{2}{n + m}}\n",
    "$$\n",
    "where $n$ and $m$ are the number of input and output neurons of the corresponding weights matrix (this is known as \"Glorot Normal\" or \"Xavier Normal\", see [Glorot, Bengio 2010](http://proceedings.mlr.press/v9/glorot10a/glorot10a.pdf)).\n",
    "\n",
    "Other popular initializations strategies are:\n",
    "- Gaussian distribution with zero mean and with standard deviation (for some constant $K$)\n",
    "$$\n",
    "\\frac{K}{\\sqrt{n}}\n",
    "$$\n",
    "- Uniform distribution\n",
    "$$\n",
    "\\left[-\\sqrt{\\frac{1}{n}}, \\sqrt{\\frac{1}{n}}\\right]\n",
    "$$\n",
    "- Uniform distribution (this is known as \"Glorot Uniform\" or \"Xavier Uniform\")\n",
    "$$\n",
    "\\left[-\\sqrt{\\frac{6}{n + m}}, \\sqrt{\\frac{6}{n + m}}\\right]\n",
    "$$"
   ]
  },
  {
   "cell_type": "code",
   "execution_count": null,
   "metadata": {
    "colab": {
     "base_uri": "https://localhost:8080/"
    },
    "executionInfo": {
     "elapsed": 14,
     "status": "ok",
     "timestamp": 1669930387005,
     "user": {
      "displayName": "Francesco Regazzoni",
      "userId": "08593163129562527691"
     },
     "user_tz": -60
    },
    "id": "Sz4fSpfmzxnp",
    "outputId": "bc7f7b3d-d92c-4077-f646-a98ac2e4412f"
   },
   "outputs": [],
   "source": [
    "def initialize_params(layers_size):\n",
    "  np.random.seed(0) # for reproducibility\n",
    "  params = list()\n",
    "  for i in range(len(layers_size) - 1):\n",
    "    W = np.random.randn(layers_size[i+1], layers_size[i]) * np.sqrt(2 / (layers_size[i+1] + layers_size[i]))\n",
    "    b = np.zeros((layers_size[i+1], 1))\n",
    "    params.append(W)\n",
    "    params.append(b)\n",
    "  return params\n",
    "\n",
    "params = initialize_params([8, 5, 5, 1])\n",
    "params"
   ]
  },
  {
   "cell_type": "markdown",
   "metadata": {
    "id": "0qzsJOMTz0_8"
   },
   "source": [
    "Implement a generic feedforward ANN with a function `y = ANN(x, params)', using $\\tanh$ as activation function.\n",
    "\n",
    "By convention, both the input and the output have:\n",
    "- 1 sample per row\n",
    "- 1 feature per column"
   ]
  },
  {
   "cell_type": "code",
   "execution_count": null,
   "metadata": {
    "colab": {
     "base_uri": "https://localhost:8080/"
    },
    "executionInfo": {
     "elapsed": 1381,
     "status": "ok",
     "timestamp": 1669930388374,
     "user": {
      "displayName": "Francesco Regazzoni",
      "userId": "08593163129562527691"
     },
     "user_tz": -60
    },
    "id": "TtwLtoDzqaM2",
    "outputId": "df551266-b2ad-4ef6-c2e9-5414dffa20e8"
   },
   "outputs": [],
   "source": [
    "activation = jnp.tanh\n",
    "# activation = lambda x: jnp.maximum(0.0, x)\n",
    "\n",
    "def ANN(x, params):\n",
    "  layer = x.T\n",
    "  num_layers = int(len(params) / 2 + 1)\n",
    "  weights = params[0::2]\n",
    "  biases = params[1::2]\n",
    "  for i in range(num_layers - 1):\n",
    "    layer = jnp.dot(weights[i], layer) - biases[i]\n",
    "    if i < num_layers - 2:\n",
    "      layer = activation(layer)\n",
    "  return layer.T\n",
    "\n",
    "ANN(x_train, params)\n",
    "x_train"
   ]
  },
  {
   "cell_type": "markdown",
   "metadata": {
    "id": "rmvIfrrQ0Fl_"
   },
   "source": [
    "Implement the quadratic (MSE) loss function `L = loss(x, y, params)`, defined as:\n",
    "\n",
    "$$\n",
    "\\mathcal{L}(\\mathbf{x}, \\mathbf{y}, \\boldsymbol{\\theta}) = \\frac{1}{m} \\sum_{i=1}^m (y_i - \\mathrm{ANN}(x_i, \\boldsymbol{\\theta}))^2\n",
    "$$\n",
    "\n",
    "where $m$ is the number of samples in $\\mathbf{x}$, $\\mathbf{y}$ and $\\boldsymbol{\\theta}$ are the ANN parameters."
   ]
  },
  {
   "cell_type": "code",
   "execution_count": null,
   "metadata": {
    "executionInfo": {
     "elapsed": 11,
     "status": "ok",
     "timestamp": 1669930388376,
     "user": {
      "displayName": "Francesco Regazzoni",
      "userId": "08593163129562527691"
     },
     "user_tz": -60
    },
    "id": "svtW7wfW0Da_"
   },
   "outputs": [],
   "source": [
    "def loss(x, y, params):\n",
    "  error =  ANN(x, params) - y\n",
    "  return jnp.mean(error * error)"
   ]
  },
  {
   "cell_type": "markdown",
   "metadata": {
    "id": "_q-49G4mm2Bl"
   },
   "source": [
    "Test your code, by generating the parameters associated with an ANN with two hidden layers with 5 neurons each and by computing the associated loss."
   ]
  },
  {
   "cell_type": "code",
   "execution_count": null,
   "metadata": {
    "colab": {
     "base_uri": "https://localhost:8080/"
    },
    "executionInfo": {
     "elapsed": 407,
     "status": "ok",
     "timestamp": 1669930388773,
     "user": {
      "displayName": "Francesco Regazzoni",
      "userId": "08593163129562527691"
     },
     "user_tz": -60
    },
    "id": "nPts1mWfmzp2",
    "outputId": "611e5f7e-87ee-4591-f018-1d7fc5e80804"
   },
   "outputs": [],
   "source": [
    "params = initialize_params([8, 5, 5, 1])\n",
    "loss(x_train, y_train, params)"
   ]
  },
  {
   "cell_type": "markdown",
   "metadata": {
    "id": "_iVlrCC00eKd"
   },
   "source": [
    "## Training\n",
    "\n",
    "### Gradient Descent\n",
    "\n",
    "Implement the GD method:\n",
    "$$\n",
    "\\begin{split}\n",
    "& \\boldsymbol{\\theta}^{(0)} \\text{given} \\\\\n",
    "& \\text{for } k = 0, 1, \\dots , n_{\\text{epochs}} - 1\\\\\n",
    "& \\qquad \\mathbf{g}^{(k)} = \\frac{1}{N} \\sum_{i=1}^N \\nabla_{\\boldsymbol{\\theta}} \\mathcal{L}(x_i, y_i, \\boldsymbol{\\theta}^{(k)}) \\\\\n",
    "& \\qquad \\boldsymbol{\\theta}^{(k+1)} = \\boldsymbol{\\theta}^{(k)} - \\lambda \\mathbf{g}^{(k)}\n",
    "\\end{split}\n",
    "$$\n",
    "where $N$ is the number of training samples. At each iteration, append the current cost to the list `history`.\n",
    "\n",
    "Train an ANN with two hidden layers with 20 neurons each. \n",
    "Try to (manually) optimize the training hyperparameters.\n",
    "\n",
    "During training, store the MSE error obtained on the train and validation sets in two lists, respectively called `history_train` and `history_valid`. Finally, plot the erros trend and diplay the final values of the errors.\n"
   ]
  },
  {
   "cell_type": "markdown",
   "metadata": {
    "id": "Tlf_xHATnHjd"
   },
   "source": [
    "\n",
    "Hints: \n",
    "- Use `jax.jit` to speedup the evaluation of the loss and of the gradients.\n",
    "- Use `tqdm` to show a nice progress bar:"
   ]
  },
  {
   "cell_type": "code",
   "execution_count": null,
   "metadata": {
    "colab": {
     "base_uri": "https://localhost:8080/",
     "height": 49,
     "referenced_widgets": [
      "785288e5c8df4f5b81a62cf25a20524b",
      "66e8838190bf4f6eab222469fe5c36c6",
      "d7050f6f849248018a4315a424567088",
      "15a6821027fd4193b99010420be10f27",
      "fc2f3446757d40799e91e93517a580d0",
      "1c64f56099494c5da6a98a9e26bed148",
      "a0a598874d6a49868c8206b2cdaf478c",
      "98516e774163412a924c7d72198c9cf7",
      "57de90f9b2194665b586c100a993ab70",
      "ba9d529fb35d4ce99e8aa33171761dd0",
      "3dcf66261de844f2a8fa1f9f76e1d8ed"
     ]
    },
    "executionInfo": {
     "elapsed": 2211,
     "status": "ok",
     "timestamp": 1669930390973,
     "user": {
      "displayName": "Francesco Regazzoni",
      "userId": "08593163129562527691"
     },
     "user_tz": -60
    },
    "id": "NH_cSddkEN7X",
    "outputId": "435d7c2a-1f6d-44ff-cc2f-005b60cad00e"
   },
   "outputs": [],
   "source": [
    "from tqdm.notebook import tqdm\n",
    "for i in tqdm(range(100)):\n",
    "  # do something ...\n",
    "  time.sleep(0.02) # only for testing"
   ]
  },
  {
   "cell_type": "code",
   "execution_count": null,
   "metadata": {
    "colab": {
     "base_uri": "https://localhost:8080/",
     "height": 592,
     "referenced_widgets": [
      "f2d8deb7397c42b7b94f8d7da41d6ea4",
      "c02752e9711946f8b510a44f8757651b",
      "e21042116dbd49338f4c4b24871fc434",
      "19357cc21efd4406a261e383738380da",
      "613d117f26d6436f9dbb8554b645a9dd",
      "f9c664122d2f436c8fed65930374875c",
      "6198b4f452974b9d823fef5e284b214e",
      "172b3aa4e981495290c45be49bae0589",
      "19f593ed6ba64c82afc2c07863ff4394",
      "503f838829f34edba66e195f8d03c429",
      "f25de87de3c8431394d37d59970a3904"
     ]
    },
    "executionInfo": {
     "elapsed": 36498,
     "status": "ok",
     "timestamp": 1669930427463,
     "user": {
      "displayName": "Francesco Regazzoni",
      "userId": "08593163129562527691"
     },
     "user_tz": -60
    },
    "id": "81IAyKlhFvvO",
    "outputId": "8bd1cfd3-3c16-4962-fac0-47e910ef0feb"
   },
   "outputs": [],
   "source": [
    "# Hyperparameters\n",
    "layers_size = [8, 20, 20, 1]\n",
    "# Training options\n",
    "num_epochs = 2000\n",
    "learning_rate = 1e-1\n",
    "########################################\n",
    "\n",
    "params = initialize_params(layers_size)\n",
    "\n",
    "grad = jax.jit(jax.grad(loss, argnums = 2))\n",
    "loss_jit = jax.jit(loss)\n",
    "grad_jit = jax.jit(grad)\n",
    "\n",
    "n_samples = x_train.shape[0]\n",
    "\n",
    "history_train = list()\n",
    "history_valid = list()\n",
    "history_train.append(loss_jit(x_train, y_train, params))\n",
    "history_valid.append(loss_jit(x_valid, y_valid, params))\n",
    "\n",
    "t0 = time.time()\n",
    "for epoch in tqdm(range(num_epochs)):\n",
    "  grads = grad_jit(x_train, y_train, params)\n",
    "  \n",
    "  for i in range(len(params)):\n",
    "    params[i] -= learning_rate * grads[i]\n",
    "\n",
    "  history_train.append(loss_jit(x_train, y_train, params))\n",
    "  history_valid.append(loss_jit(x_valid, y_valid, params))\n",
    "\n",
    "print('elapsed time: %f s' % (time.time() - t0))\n",
    "print('loss train     : %1.3e' % history_train[-1])\n",
    "print('loss validation: %1.3e' % history_valid[-1])\n",
    "\n",
    "fig, axs = plt.subplots(1, figsize=(16,8))\n",
    "axs.loglog(history_train, label = 'train')\n",
    "axs.loglog(history_valid, label = 'validation')"
   ]
  },
  {
   "cell_type": "markdown",
   "metadata": {
    "id": "U4fiOqFqnmUf"
   },
   "source": [
    "### Stochastic Gradient Descent\n",
    "\n",
    "Implement the SGD method:\n",
    "$$\n",
    "\\begin{split}\n",
    "& \\boldsymbol{\\theta}^{(0)} \\text{given} \\\\\n",
    "& \\text{for } k = 0, 1, \\dots , n_{\\text{epochs}} - 1\\\\\n",
    "& \\qquad \\mathbf{g}^{(k)} = \\frac{1}{|I_k|} \\sum_{i \\in I_k} \\nabla_{\\boldsymbol{\\theta}} \\mathcal{L}(x_i, y_i, \\boldsymbol{\\theta}^{(k)}) \\\\\n",
    "& \\qquad \\boldsymbol{\\theta}^{(k+1)} = \\boldsymbol{\\theta}^{(k)} - \\lambda_k \\mathbf{g}^{(k)}\n",
    "\\end{split}\n",
    "$$\n",
    "where $I_k$ is the current minibatch. To select it, use the function [np.random.choice](https://docs.scipy.org/doc//numpy-1.10.4/reference/generated/numpy.random.choice.html) with replacement.\n",
    "\n",
    "Consider a linear decay of the learning rate:\n",
    "$$\n",
    "\\lambda_k = \\max\\left(\\lambda_{\\textnormal{min}}, \\lambda_{\\textnormal{max}} \\left(1 - \\frac{k}{K}\\right)\\right)\n",
    "$$\n",
    "\n",
    "Test different choices of batch size and try to optimize the learning rate decay strategy."
   ]
  },
  {
   "cell_type": "code",
   "execution_count": null,
   "metadata": {
    "colab": {
     "base_uri": "https://localhost:8080/",
     "height": 592,
     "referenced_widgets": [
      "7ef556e1e7fe4466bcc23bce8fd4a892",
      "1037584dfd9a4935935472d3d6cf2585",
      "3aca1295bbbc4b2a88d6f451fa6adef8",
      "a6808c036ecd4945998bbe669aa9a69d",
      "3c36153ae8254946a6fc22b0f4a1f627",
      "e49da3d9ec0e45da803651fb89681200",
      "d34371ddcbf0416b8c934664289e130a",
      "e82f4992715a487880730055244d1588",
      "cb30134c8622423b925cee28b94eba46",
      "d0a9d1f522884dbe98a2d5f7c0bda782",
      "5ce1ccc959bd4b789b985c66c20da2c1"
     ]
    },
    "executionInfo": {
     "elapsed": 12993,
     "status": "ok",
     "timestamp": 1669930440426,
     "user": {
      "displayName": "Francesco Regazzoni",
      "userId": "08593163129562527691"
     },
     "user_tz": -60
    },
    "id": "x-wkmNyjNzpw",
    "outputId": "c089bccd-9bde-492a-ef3f-882b542fa441"
   },
   "outputs": [],
   "source": [
    "# Hyperparameters\n",
    "layers_size = [8, 20, 20, 1]\n",
    "# Training options\n",
    "num_epochs = 2000\n",
    "learning_rate_max = 2e-1\n",
    "learning_rate_min = 5e-2\n",
    "learning_rate_decay = 2000\n",
    "batch_size = 1000\n",
    "########################################\n",
    "\n",
    "params = initialize_params(layers_size)\n",
    "\n",
    "grad = jax.jit(jax.grad(loss, argnums = 2))\n",
    "loss_jit = jax.jit(loss)\n",
    "grad_jit = jax.jit(grad)\n",
    "\n",
    "n_samples = x_train.shape[0]\n",
    "\n",
    "history_train = list()\n",
    "history_valid = list()\n",
    "history_train.append(loss_jit(x_train, y_train, params))\n",
    "history_valid.append(loss_jit(x_valid, y_valid, params))\n",
    "\n",
    "t0 = time.time()\n",
    "for epoch in tqdm(range(num_epochs)):\n",
    "  learning_rate = max(learning_rate_min, learning_rate_max * (1 - epoch/learning_rate_decay))\n",
    "  idxs = np.random.choice(n_samples, batch_size)\n",
    "  grads = grad_jit(x_train[idxs,:], y_train[idxs,:], params)\n",
    "  \n",
    "  for i in range(len(params)):\n",
    "    params[i] -= learning_rate * grads[i]\n",
    "\n",
    "  history_train.append(loss_jit(x_train, y_train, params))\n",
    "  history_valid.append(loss_jit(x_valid, y_valid, params))\n",
    "\n",
    "print('elapsed time: %f s' % (time.time() - t0))\n",
    "print('loss train     : %1.3e' % history_train[-1])\n",
    "print('loss validation: %1.3e' % history_valid[-1])\n",
    "\n",
    "fig, axs = plt.subplots(1, figsize=(16,8))\n",
    "axs.loglog(history_train, label = 'train')\n",
    "axs.loglog(history_valid, label = 'validation')"
   ]
  },
  {
   "cell_type": "markdown",
   "metadata": {
    "id": "K75tZrUw0oSH"
   },
   "source": [
    "## Testing\n",
    "\n",
    "Load the test dataset `sample_data/california_housing_test.csv` and use the trained model to predict the house prices of the dataset.\n",
    "\n",
    "Compare predicted prices with actual prices by means of a scatterplot.\n",
    "\n",
    "Finally, compute the RMSE (root mean square error)."
   ]
  },
  {
   "cell_type": "code",
   "execution_count": null,
   "metadata": {
    "executionInfo": {
     "elapsed": 24,
     "status": "ok",
     "timestamp": 1669930440427,
     "user": {
      "displayName": "Francesco Regazzoni",
      "userId": "08593163129562527691"
     },
     "user_tz": -60
    },
    "id": "OegjZpOmvrpk"
   },
   "outputs": [],
   "source": [
    "data_test = pd.read_csv('sample_data/california_housing_test.csv')\n",
    "data_test = data_test[data_test['median_house_value'] < 500001]\n",
    "data_test_normalized = (data_test - data.mean()) / data.std()\n",
    "x_test = data_test_normalized.drop('median_house_value',axis=1).to_numpy()\n",
    "Y_test = data_test['median_house_value'].to_numpy()[:,None]\n",
    "\n",
    "y_predicted = ANN(x_test, params)\n",
    "Y_predicted = (y_predicted * data['median_house_value'].std()) + data['median_house_value'].mean()"
   ]
  },
  {
   "cell_type": "code",
   "execution_count": null,
   "metadata": {
    "colab": {
     "base_uri": "https://localhost:8080/",
     "height": 459
    },
    "executionInfo": {
     "elapsed": 599,
     "status": "ok",
     "timestamp": 1669930441004,
     "user": {
      "displayName": "Francesco Regazzoni",
      "userId": "08593163129562527691"
     },
     "user_tz": -60
    },
    "id": "l55-Hz61xfEw",
    "outputId": "cc9ccb5b-54c1-4a77-e4b6-0af68487421b"
   },
   "outputs": [],
   "source": [
    "test = pd.DataFrame({'predicted': Y_predicted[:,0],'actual': Y_test[:,0]})\n",
    "fig = sns.jointplot(data=test, x='actual', y='predicted')\n",
    "fig.ax_joint.plot([0, 500000], [0, 500000.], 'r')"
   ]
  },
  {
   "cell_type": "code",
   "execution_count": null,
   "metadata": {
    "colab": {
     "base_uri": "https://localhost:8080/"
    },
    "executionInfo": {
     "elapsed": 489,
     "status": "ok",
     "timestamp": 1669930441484,
     "user": {
      "displayName": "Francesco Regazzoni",
      "userId": "08593163129562527691"
     },
     "user_tz": -60
    },
    "id": "F53u1vozmOmD",
    "outputId": "59a20be0-c514-4cbc-b5a7-c165dddc3dda"
   },
   "outputs": [],
   "source": [
    "error = Y_test - Y_predicted\n",
    "RMSE = jnp.sqrt(jnp.mean(error * error))\n",
    "print('RMSE: %0.2f k$' % (RMSE * 1e-3))"
   ]
  }
 ],
 "metadata": {
  "colab": {
   "authorship_tag": "ABX9TyMzSfm4Ew38kymnP+nL4QnX",
   "mount_file_id": "1jPUgULFGwoy5C8YoJgAzpAJgjvsLC5RD",
   "provenance": []
  },
  "kernelspec": {
   "display_name": "Python 3 (ipykernel)",
   "language": "python",
   "name": "python3"
  },
  "language_info": {
   "codemirror_mode": {
    "name": "ipython",
    "version": 3
   },
   "file_extension": ".py",
   "mimetype": "text/x-python",
   "name": "python",
   "nbconvert_exporter": "python",
   "pygments_lexer": "ipython3",
   "version": "3.11.4"
  },
  "widgets": {
   "application/vnd.jupyter.widget-state+json": {
    "1037584dfd9a4935935472d3d6cf2585": {
     "model_module": "@jupyter-widgets/controls",
     "model_module_version": "1.5.0",
     "model_name": "HTMLModel",
     "state": {
      "_dom_classes": [],
      "_model_module": "@jupyter-widgets/controls",
      "_model_module_version": "1.5.0",
      "_model_name": "HTMLModel",
      "_view_count": null,
      "_view_module": "@jupyter-widgets/controls",
      "_view_module_version": "1.5.0",
      "_view_name": "HTMLView",
      "description": "",
      "description_tooltip": null,
      "layout": "IPY_MODEL_e49da3d9ec0e45da803651fb89681200",
      "placeholder": "​",
      "style": "IPY_MODEL_d34371ddcbf0416b8c934664289e130a",
      "value": "100%"
     }
    },
    "15a6821027fd4193b99010420be10f27": {
     "model_module": "@jupyter-widgets/controls",
     "model_module_version": "1.5.0",
     "model_name": "HTMLModel",
     "state": {
      "_dom_classes": [],
      "_model_module": "@jupyter-widgets/controls",
      "_model_module_version": "1.5.0",
      "_model_name": "HTMLModel",
      "_view_count": null,
      "_view_module": "@jupyter-widgets/controls",
      "_view_module_version": "1.5.0",
      "_view_name": "HTMLView",
      "description": "",
      "description_tooltip": null,
      "layout": "IPY_MODEL_ba9d529fb35d4ce99e8aa33171761dd0",
      "placeholder": "​",
      "style": "IPY_MODEL_3dcf66261de844f2a8fa1f9f76e1d8ed",
      "value": " 100/100 [00:02&lt;00:00, 45.21it/s]"
     }
    },
    "172b3aa4e981495290c45be49bae0589": {
     "model_module": "@jupyter-widgets/base",
     "model_module_version": "1.2.0",
     "model_name": "LayoutModel",
     "state": {
      "_model_module": "@jupyter-widgets/base",
      "_model_module_version": "1.2.0",
      "_model_name": "LayoutModel",
      "_view_count": null,
      "_view_module": "@jupyter-widgets/base",
      "_view_module_version": "1.2.0",
      "_view_name": "LayoutView",
      "align_content": null,
      "align_items": null,
      "align_self": null,
      "border": null,
      "bottom": null,
      "display": null,
      "flex": null,
      "flex_flow": null,
      "grid_area": null,
      "grid_auto_columns": null,
      "grid_auto_flow": null,
      "grid_auto_rows": null,
      "grid_column": null,
      "grid_gap": null,
      "grid_row": null,
      "grid_template_areas": null,
      "grid_template_columns": null,
      "grid_template_rows": null,
      "height": null,
      "justify_content": null,
      "justify_items": null,
      "left": null,
      "margin": null,
      "max_height": null,
      "max_width": null,
      "min_height": null,
      "min_width": null,
      "object_fit": null,
      "object_position": null,
      "order": null,
      "overflow": null,
      "overflow_x": null,
      "overflow_y": null,
      "padding": null,
      "right": null,
      "top": null,
      "visibility": null,
      "width": null
     }
    },
    "19357cc21efd4406a261e383738380da": {
     "model_module": "@jupyter-widgets/controls",
     "model_module_version": "1.5.0",
     "model_name": "HTMLModel",
     "state": {
      "_dom_classes": [],
      "_model_module": "@jupyter-widgets/controls",
      "_model_module_version": "1.5.0",
      "_model_name": "HTMLModel",
      "_view_count": null,
      "_view_module": "@jupyter-widgets/controls",
      "_view_module_version": "1.5.0",
      "_view_name": "HTMLView",
      "description": "",
      "description_tooltip": null,
      "layout": "IPY_MODEL_503f838829f34edba66e195f8d03c429",
      "placeholder": "​",
      "style": "IPY_MODEL_f25de87de3c8431394d37d59970a3904",
      "value": " 2000/2000 [00:34&lt;00:00, 96.74it/s]"
     }
    },
    "19f593ed6ba64c82afc2c07863ff4394": {
     "model_module": "@jupyter-widgets/controls",
     "model_module_version": "1.5.0",
     "model_name": "ProgressStyleModel",
     "state": {
      "_model_module": "@jupyter-widgets/controls",
      "_model_module_version": "1.5.0",
      "_model_name": "ProgressStyleModel",
      "_view_count": null,
      "_view_module": "@jupyter-widgets/base",
      "_view_module_version": "1.2.0",
      "_view_name": "StyleView",
      "bar_color": null,
      "description_width": ""
     }
    },
    "1c64f56099494c5da6a98a9e26bed148": {
     "model_module": "@jupyter-widgets/base",
     "model_module_version": "1.2.0",
     "model_name": "LayoutModel",
     "state": {
      "_model_module": "@jupyter-widgets/base",
      "_model_module_version": "1.2.0",
      "_model_name": "LayoutModel",
      "_view_count": null,
      "_view_module": "@jupyter-widgets/base",
      "_view_module_version": "1.2.0",
      "_view_name": "LayoutView",
      "align_content": null,
      "align_items": null,
      "align_self": null,
      "border": null,
      "bottom": null,
      "display": null,
      "flex": null,
      "flex_flow": null,
      "grid_area": null,
      "grid_auto_columns": null,
      "grid_auto_flow": null,
      "grid_auto_rows": null,
      "grid_column": null,
      "grid_gap": null,
      "grid_row": null,
      "grid_template_areas": null,
      "grid_template_columns": null,
      "grid_template_rows": null,
      "height": null,
      "justify_content": null,
      "justify_items": null,
      "left": null,
      "margin": null,
      "max_height": null,
      "max_width": null,
      "min_height": null,
      "min_width": null,
      "object_fit": null,
      "object_position": null,
      "order": null,
      "overflow": null,
      "overflow_x": null,
      "overflow_y": null,
      "padding": null,
      "right": null,
      "top": null,
      "visibility": null,
      "width": null
     }
    },
    "3aca1295bbbc4b2a88d6f451fa6adef8": {
     "model_module": "@jupyter-widgets/controls",
     "model_module_version": "1.5.0",
     "model_name": "FloatProgressModel",
     "state": {
      "_dom_classes": [],
      "_model_module": "@jupyter-widgets/controls",
      "_model_module_version": "1.5.0",
      "_model_name": "FloatProgressModel",
      "_view_count": null,
      "_view_module": "@jupyter-widgets/controls",
      "_view_module_version": "1.5.0",
      "_view_name": "ProgressView",
      "bar_style": "success",
      "description": "",
      "description_tooltip": null,
      "layout": "IPY_MODEL_e82f4992715a487880730055244d1588",
      "max": 2000,
      "min": 0,
      "orientation": "horizontal",
      "style": "IPY_MODEL_cb30134c8622423b925cee28b94eba46",
      "value": 2000
     }
    },
    "3c36153ae8254946a6fc22b0f4a1f627": {
     "model_module": "@jupyter-widgets/base",
     "model_module_version": "1.2.0",
     "model_name": "LayoutModel",
     "state": {
      "_model_module": "@jupyter-widgets/base",
      "_model_module_version": "1.2.0",
      "_model_name": "LayoutModel",
      "_view_count": null,
      "_view_module": "@jupyter-widgets/base",
      "_view_module_version": "1.2.0",
      "_view_name": "LayoutView",
      "align_content": null,
      "align_items": null,
      "align_self": null,
      "border": null,
      "bottom": null,
      "display": null,
      "flex": null,
      "flex_flow": null,
      "grid_area": null,
      "grid_auto_columns": null,
      "grid_auto_flow": null,
      "grid_auto_rows": null,
      "grid_column": null,
      "grid_gap": null,
      "grid_row": null,
      "grid_template_areas": null,
      "grid_template_columns": null,
      "grid_template_rows": null,
      "height": null,
      "justify_content": null,
      "justify_items": null,
      "left": null,
      "margin": null,
      "max_height": null,
      "max_width": null,
      "min_height": null,
      "min_width": null,
      "object_fit": null,
      "object_position": null,
      "order": null,
      "overflow": null,
      "overflow_x": null,
      "overflow_y": null,
      "padding": null,
      "right": null,
      "top": null,
      "visibility": null,
      "width": null
     }
    },
    "3dcf66261de844f2a8fa1f9f76e1d8ed": {
     "model_module": "@jupyter-widgets/controls",
     "model_module_version": "1.5.0",
     "model_name": "DescriptionStyleModel",
     "state": {
      "_model_module": "@jupyter-widgets/controls",
      "_model_module_version": "1.5.0",
      "_model_name": "DescriptionStyleModel",
      "_view_count": null,
      "_view_module": "@jupyter-widgets/base",
      "_view_module_version": "1.2.0",
      "_view_name": "StyleView",
      "description_width": ""
     }
    },
    "503f838829f34edba66e195f8d03c429": {
     "model_module": "@jupyter-widgets/base",
     "model_module_version": "1.2.0",
     "model_name": "LayoutModel",
     "state": {
      "_model_module": "@jupyter-widgets/base",
      "_model_module_version": "1.2.0",
      "_model_name": "LayoutModel",
      "_view_count": null,
      "_view_module": "@jupyter-widgets/base",
      "_view_module_version": "1.2.0",
      "_view_name": "LayoutView",
      "align_content": null,
      "align_items": null,
      "align_self": null,
      "border": null,
      "bottom": null,
      "display": null,
      "flex": null,
      "flex_flow": null,
      "grid_area": null,
      "grid_auto_columns": null,
      "grid_auto_flow": null,
      "grid_auto_rows": null,
      "grid_column": null,
      "grid_gap": null,
      "grid_row": null,
      "grid_template_areas": null,
      "grid_template_columns": null,
      "grid_template_rows": null,
      "height": null,
      "justify_content": null,
      "justify_items": null,
      "left": null,
      "margin": null,
      "max_height": null,
      "max_width": null,
      "min_height": null,
      "min_width": null,
      "object_fit": null,
      "object_position": null,
      "order": null,
      "overflow": null,
      "overflow_x": null,
      "overflow_y": null,
      "padding": null,
      "right": null,
      "top": null,
      "visibility": null,
      "width": null
     }
    },
    "57de90f9b2194665b586c100a993ab70": {
     "model_module": "@jupyter-widgets/controls",
     "model_module_version": "1.5.0",
     "model_name": "ProgressStyleModel",
     "state": {
      "_model_module": "@jupyter-widgets/controls",
      "_model_module_version": "1.5.0",
      "_model_name": "ProgressStyleModel",
      "_view_count": null,
      "_view_module": "@jupyter-widgets/base",
      "_view_module_version": "1.2.0",
      "_view_name": "StyleView",
      "bar_color": null,
      "description_width": ""
     }
    },
    "5ce1ccc959bd4b789b985c66c20da2c1": {
     "model_module": "@jupyter-widgets/controls",
     "model_module_version": "1.5.0",
     "model_name": "DescriptionStyleModel",
     "state": {
      "_model_module": "@jupyter-widgets/controls",
      "_model_module_version": "1.5.0",
      "_model_name": "DescriptionStyleModel",
      "_view_count": null,
      "_view_module": "@jupyter-widgets/base",
      "_view_module_version": "1.2.0",
      "_view_name": "StyleView",
      "description_width": ""
     }
    },
    "613d117f26d6436f9dbb8554b645a9dd": {
     "model_module": "@jupyter-widgets/base",
     "model_module_version": "1.2.0",
     "model_name": "LayoutModel",
     "state": {
      "_model_module": "@jupyter-widgets/base",
      "_model_module_version": "1.2.0",
      "_model_name": "LayoutModel",
      "_view_count": null,
      "_view_module": "@jupyter-widgets/base",
      "_view_module_version": "1.2.0",
      "_view_name": "LayoutView",
      "align_content": null,
      "align_items": null,
      "align_self": null,
      "border": null,
      "bottom": null,
      "display": null,
      "flex": null,
      "flex_flow": null,
      "grid_area": null,
      "grid_auto_columns": null,
      "grid_auto_flow": null,
      "grid_auto_rows": null,
      "grid_column": null,
      "grid_gap": null,
      "grid_row": null,
      "grid_template_areas": null,
      "grid_template_columns": null,
      "grid_template_rows": null,
      "height": null,
      "justify_content": null,
      "justify_items": null,
      "left": null,
      "margin": null,
      "max_height": null,
      "max_width": null,
      "min_height": null,
      "min_width": null,
      "object_fit": null,
      "object_position": null,
      "order": null,
      "overflow": null,
      "overflow_x": null,
      "overflow_y": null,
      "padding": null,
      "right": null,
      "top": null,
      "visibility": null,
      "width": null
     }
    },
    "6198b4f452974b9d823fef5e284b214e": {
     "model_module": "@jupyter-widgets/controls",
     "model_module_version": "1.5.0",
     "model_name": "DescriptionStyleModel",
     "state": {
      "_model_module": "@jupyter-widgets/controls",
      "_model_module_version": "1.5.0",
      "_model_name": "DescriptionStyleModel",
      "_view_count": null,
      "_view_module": "@jupyter-widgets/base",
      "_view_module_version": "1.2.0",
      "_view_name": "StyleView",
      "description_width": ""
     }
    },
    "66e8838190bf4f6eab222469fe5c36c6": {
     "model_module": "@jupyter-widgets/controls",
     "model_module_version": "1.5.0",
     "model_name": "HTMLModel",
     "state": {
      "_dom_classes": [],
      "_model_module": "@jupyter-widgets/controls",
      "_model_module_version": "1.5.0",
      "_model_name": "HTMLModel",
      "_view_count": null,
      "_view_module": "@jupyter-widgets/controls",
      "_view_module_version": "1.5.0",
      "_view_name": "HTMLView",
      "description": "",
      "description_tooltip": null,
      "layout": "IPY_MODEL_1c64f56099494c5da6a98a9e26bed148",
      "placeholder": "​",
      "style": "IPY_MODEL_a0a598874d6a49868c8206b2cdaf478c",
      "value": "100%"
     }
    },
    "785288e5c8df4f5b81a62cf25a20524b": {
     "model_module": "@jupyter-widgets/controls",
     "model_module_version": "1.5.0",
     "model_name": "HBoxModel",
     "state": {
      "_dom_classes": [],
      "_model_module": "@jupyter-widgets/controls",
      "_model_module_version": "1.5.0",
      "_model_name": "HBoxModel",
      "_view_count": null,
      "_view_module": "@jupyter-widgets/controls",
      "_view_module_version": "1.5.0",
      "_view_name": "HBoxView",
      "box_style": "",
      "children": [
       "IPY_MODEL_66e8838190bf4f6eab222469fe5c36c6",
       "IPY_MODEL_d7050f6f849248018a4315a424567088",
       "IPY_MODEL_15a6821027fd4193b99010420be10f27"
      ],
      "layout": "IPY_MODEL_fc2f3446757d40799e91e93517a580d0"
     }
    },
    "7ef556e1e7fe4466bcc23bce8fd4a892": {
     "model_module": "@jupyter-widgets/controls",
     "model_module_version": "1.5.0",
     "model_name": "HBoxModel",
     "state": {
      "_dom_classes": [],
      "_model_module": "@jupyter-widgets/controls",
      "_model_module_version": "1.5.0",
      "_model_name": "HBoxModel",
      "_view_count": null,
      "_view_module": "@jupyter-widgets/controls",
      "_view_module_version": "1.5.0",
      "_view_name": "HBoxView",
      "box_style": "",
      "children": [
       "IPY_MODEL_1037584dfd9a4935935472d3d6cf2585",
       "IPY_MODEL_3aca1295bbbc4b2a88d6f451fa6adef8",
       "IPY_MODEL_a6808c036ecd4945998bbe669aa9a69d"
      ],
      "layout": "IPY_MODEL_3c36153ae8254946a6fc22b0f4a1f627"
     }
    },
    "98516e774163412a924c7d72198c9cf7": {
     "model_module": "@jupyter-widgets/base",
     "model_module_version": "1.2.0",
     "model_name": "LayoutModel",
     "state": {
      "_model_module": "@jupyter-widgets/base",
      "_model_module_version": "1.2.0",
      "_model_name": "LayoutModel",
      "_view_count": null,
      "_view_module": "@jupyter-widgets/base",
      "_view_module_version": "1.2.0",
      "_view_name": "LayoutView",
      "align_content": null,
      "align_items": null,
      "align_self": null,
      "border": null,
      "bottom": null,
      "display": null,
      "flex": null,
      "flex_flow": null,
      "grid_area": null,
      "grid_auto_columns": null,
      "grid_auto_flow": null,
      "grid_auto_rows": null,
      "grid_column": null,
      "grid_gap": null,
      "grid_row": null,
      "grid_template_areas": null,
      "grid_template_columns": null,
      "grid_template_rows": null,
      "height": null,
      "justify_content": null,
      "justify_items": null,
      "left": null,
      "margin": null,
      "max_height": null,
      "max_width": null,
      "min_height": null,
      "min_width": null,
      "object_fit": null,
      "object_position": null,
      "order": null,
      "overflow": null,
      "overflow_x": null,
      "overflow_y": null,
      "padding": null,
      "right": null,
      "top": null,
      "visibility": null,
      "width": null
     }
    },
    "a0a598874d6a49868c8206b2cdaf478c": {
     "model_module": "@jupyter-widgets/controls",
     "model_module_version": "1.5.0",
     "model_name": "DescriptionStyleModel",
     "state": {
      "_model_module": "@jupyter-widgets/controls",
      "_model_module_version": "1.5.0",
      "_model_name": "DescriptionStyleModel",
      "_view_count": null,
      "_view_module": "@jupyter-widgets/base",
      "_view_module_version": "1.2.0",
      "_view_name": "StyleView",
      "description_width": ""
     }
    },
    "a6808c036ecd4945998bbe669aa9a69d": {
     "model_module": "@jupyter-widgets/controls",
     "model_module_version": "1.5.0",
     "model_name": "HTMLModel",
     "state": {
      "_dom_classes": [],
      "_model_module": "@jupyter-widgets/controls",
      "_model_module_version": "1.5.0",
      "_model_name": "HTMLModel",
      "_view_count": null,
      "_view_module": "@jupyter-widgets/controls",
      "_view_module_version": "1.5.0",
      "_view_name": "HTMLView",
      "description": "",
      "description_tooltip": null,
      "layout": "IPY_MODEL_d0a9d1f522884dbe98a2d5f7c0bda782",
      "placeholder": "​",
      "style": "IPY_MODEL_5ce1ccc959bd4b789b985c66c20da2c1",
      "value": " 2000/2000 [00:12&lt;00:00, 172.96it/s]"
     }
    },
    "ba9d529fb35d4ce99e8aa33171761dd0": {
     "model_module": "@jupyter-widgets/base",
     "model_module_version": "1.2.0",
     "model_name": "LayoutModel",
     "state": {
      "_model_module": "@jupyter-widgets/base",
      "_model_module_version": "1.2.0",
      "_model_name": "LayoutModel",
      "_view_count": null,
      "_view_module": "@jupyter-widgets/base",
      "_view_module_version": "1.2.0",
      "_view_name": "LayoutView",
      "align_content": null,
      "align_items": null,
      "align_self": null,
      "border": null,
      "bottom": null,
      "display": null,
      "flex": null,
      "flex_flow": null,
      "grid_area": null,
      "grid_auto_columns": null,
      "grid_auto_flow": null,
      "grid_auto_rows": null,
      "grid_column": null,
      "grid_gap": null,
      "grid_row": null,
      "grid_template_areas": null,
      "grid_template_columns": null,
      "grid_template_rows": null,
      "height": null,
      "justify_content": null,
      "justify_items": null,
      "left": null,
      "margin": null,
      "max_height": null,
      "max_width": null,
      "min_height": null,
      "min_width": null,
      "object_fit": null,
      "object_position": null,
      "order": null,
      "overflow": null,
      "overflow_x": null,
      "overflow_y": null,
      "padding": null,
      "right": null,
      "top": null,
      "visibility": null,
      "width": null
     }
    },
    "c02752e9711946f8b510a44f8757651b": {
     "model_module": "@jupyter-widgets/controls",
     "model_module_version": "1.5.0",
     "model_name": "HTMLModel",
     "state": {
      "_dom_classes": [],
      "_model_module": "@jupyter-widgets/controls",
      "_model_module_version": "1.5.0",
      "_model_name": "HTMLModel",
      "_view_count": null,
      "_view_module": "@jupyter-widgets/controls",
      "_view_module_version": "1.5.0",
      "_view_name": "HTMLView",
      "description": "",
      "description_tooltip": null,
      "layout": "IPY_MODEL_f9c664122d2f436c8fed65930374875c",
      "placeholder": "​",
      "style": "IPY_MODEL_6198b4f452974b9d823fef5e284b214e",
      "value": "100%"
     }
    },
    "cb30134c8622423b925cee28b94eba46": {
     "model_module": "@jupyter-widgets/controls",
     "model_module_version": "1.5.0",
     "model_name": "ProgressStyleModel",
     "state": {
      "_model_module": "@jupyter-widgets/controls",
      "_model_module_version": "1.5.0",
      "_model_name": "ProgressStyleModel",
      "_view_count": null,
      "_view_module": "@jupyter-widgets/base",
      "_view_module_version": "1.2.0",
      "_view_name": "StyleView",
      "bar_color": null,
      "description_width": ""
     }
    },
    "d0a9d1f522884dbe98a2d5f7c0bda782": {
     "model_module": "@jupyter-widgets/base",
     "model_module_version": "1.2.0",
     "model_name": "LayoutModel",
     "state": {
      "_model_module": "@jupyter-widgets/base",
      "_model_module_version": "1.2.0",
      "_model_name": "LayoutModel",
      "_view_count": null,
      "_view_module": "@jupyter-widgets/base",
      "_view_module_version": "1.2.0",
      "_view_name": "LayoutView",
      "align_content": null,
      "align_items": null,
      "align_self": null,
      "border": null,
      "bottom": null,
      "display": null,
      "flex": null,
      "flex_flow": null,
      "grid_area": null,
      "grid_auto_columns": null,
      "grid_auto_flow": null,
      "grid_auto_rows": null,
      "grid_column": null,
      "grid_gap": null,
      "grid_row": null,
      "grid_template_areas": null,
      "grid_template_columns": null,
      "grid_template_rows": null,
      "height": null,
      "justify_content": null,
      "justify_items": null,
      "left": null,
      "margin": null,
      "max_height": null,
      "max_width": null,
      "min_height": null,
      "min_width": null,
      "object_fit": null,
      "object_position": null,
      "order": null,
      "overflow": null,
      "overflow_x": null,
      "overflow_y": null,
      "padding": null,
      "right": null,
      "top": null,
      "visibility": null,
      "width": null
     }
    },
    "d34371ddcbf0416b8c934664289e130a": {
     "model_module": "@jupyter-widgets/controls",
     "model_module_version": "1.5.0",
     "model_name": "DescriptionStyleModel",
     "state": {
      "_model_module": "@jupyter-widgets/controls",
      "_model_module_version": "1.5.0",
      "_model_name": "DescriptionStyleModel",
      "_view_count": null,
      "_view_module": "@jupyter-widgets/base",
      "_view_module_version": "1.2.0",
      "_view_name": "StyleView",
      "description_width": ""
     }
    },
    "d7050f6f849248018a4315a424567088": {
     "model_module": "@jupyter-widgets/controls",
     "model_module_version": "1.5.0",
     "model_name": "FloatProgressModel",
     "state": {
      "_dom_classes": [],
      "_model_module": "@jupyter-widgets/controls",
      "_model_module_version": "1.5.0",
      "_model_name": "FloatProgressModel",
      "_view_count": null,
      "_view_module": "@jupyter-widgets/controls",
      "_view_module_version": "1.5.0",
      "_view_name": "ProgressView",
      "bar_style": "success",
      "description": "",
      "description_tooltip": null,
      "layout": "IPY_MODEL_98516e774163412a924c7d72198c9cf7",
      "max": 100,
      "min": 0,
      "orientation": "horizontal",
      "style": "IPY_MODEL_57de90f9b2194665b586c100a993ab70",
      "value": 100
     }
    },
    "e21042116dbd49338f4c4b24871fc434": {
     "model_module": "@jupyter-widgets/controls",
     "model_module_version": "1.5.0",
     "model_name": "FloatProgressModel",
     "state": {
      "_dom_classes": [],
      "_model_module": "@jupyter-widgets/controls",
      "_model_module_version": "1.5.0",
      "_model_name": "FloatProgressModel",
      "_view_count": null,
      "_view_module": "@jupyter-widgets/controls",
      "_view_module_version": "1.5.0",
      "_view_name": "ProgressView",
      "bar_style": "success",
      "description": "",
      "description_tooltip": null,
      "layout": "IPY_MODEL_172b3aa4e981495290c45be49bae0589",
      "max": 2000,
      "min": 0,
      "orientation": "horizontal",
      "style": "IPY_MODEL_19f593ed6ba64c82afc2c07863ff4394",
      "value": 2000
     }
    },
    "e49da3d9ec0e45da803651fb89681200": {
     "model_module": "@jupyter-widgets/base",
     "model_module_version": "1.2.0",
     "model_name": "LayoutModel",
     "state": {
      "_model_module": "@jupyter-widgets/base",
      "_model_module_version": "1.2.0",
      "_model_name": "LayoutModel",
      "_view_count": null,
      "_view_module": "@jupyter-widgets/base",
      "_view_module_version": "1.2.0",
      "_view_name": "LayoutView",
      "align_content": null,
      "align_items": null,
      "align_self": null,
      "border": null,
      "bottom": null,
      "display": null,
      "flex": null,
      "flex_flow": null,
      "grid_area": null,
      "grid_auto_columns": null,
      "grid_auto_flow": null,
      "grid_auto_rows": null,
      "grid_column": null,
      "grid_gap": null,
      "grid_row": null,
      "grid_template_areas": null,
      "grid_template_columns": null,
      "grid_template_rows": null,
      "height": null,
      "justify_content": null,
      "justify_items": null,
      "left": null,
      "margin": null,
      "max_height": null,
      "max_width": null,
      "min_height": null,
      "min_width": null,
      "object_fit": null,
      "object_position": null,
      "order": null,
      "overflow": null,
      "overflow_x": null,
      "overflow_y": null,
      "padding": null,
      "right": null,
      "top": null,
      "visibility": null,
      "width": null
     }
    },
    "e82f4992715a487880730055244d1588": {
     "model_module": "@jupyter-widgets/base",
     "model_module_version": "1.2.0",
     "model_name": "LayoutModel",
     "state": {
      "_model_module": "@jupyter-widgets/base",
      "_model_module_version": "1.2.0",
      "_model_name": "LayoutModel",
      "_view_count": null,
      "_view_module": "@jupyter-widgets/base",
      "_view_module_version": "1.2.0",
      "_view_name": "LayoutView",
      "align_content": null,
      "align_items": null,
      "align_self": null,
      "border": null,
      "bottom": null,
      "display": null,
      "flex": null,
      "flex_flow": null,
      "grid_area": null,
      "grid_auto_columns": null,
      "grid_auto_flow": null,
      "grid_auto_rows": null,
      "grid_column": null,
      "grid_gap": null,
      "grid_row": null,
      "grid_template_areas": null,
      "grid_template_columns": null,
      "grid_template_rows": null,
      "height": null,
      "justify_content": null,
      "justify_items": null,
      "left": null,
      "margin": null,
      "max_height": null,
      "max_width": null,
      "min_height": null,
      "min_width": null,
      "object_fit": null,
      "object_position": null,
      "order": null,
      "overflow": null,
      "overflow_x": null,
      "overflow_y": null,
      "padding": null,
      "right": null,
      "top": null,
      "visibility": null,
      "width": null
     }
    },
    "f25de87de3c8431394d37d59970a3904": {
     "model_module": "@jupyter-widgets/controls",
     "model_module_version": "1.5.0",
     "model_name": "DescriptionStyleModel",
     "state": {
      "_model_module": "@jupyter-widgets/controls",
      "_model_module_version": "1.5.0",
      "_model_name": "DescriptionStyleModel",
      "_view_count": null,
      "_view_module": "@jupyter-widgets/base",
      "_view_module_version": "1.2.0",
      "_view_name": "StyleView",
      "description_width": ""
     }
    },
    "f2d8deb7397c42b7b94f8d7da41d6ea4": {
     "model_module": "@jupyter-widgets/controls",
     "model_module_version": "1.5.0",
     "model_name": "HBoxModel",
     "state": {
      "_dom_classes": [],
      "_model_module": "@jupyter-widgets/controls",
      "_model_module_version": "1.5.0",
      "_model_name": "HBoxModel",
      "_view_count": null,
      "_view_module": "@jupyter-widgets/controls",
      "_view_module_version": "1.5.0",
      "_view_name": "HBoxView",
      "box_style": "",
      "children": [
       "IPY_MODEL_c02752e9711946f8b510a44f8757651b",
       "IPY_MODEL_e21042116dbd49338f4c4b24871fc434",
       "IPY_MODEL_19357cc21efd4406a261e383738380da"
      ],
      "layout": "IPY_MODEL_613d117f26d6436f9dbb8554b645a9dd"
     }
    },
    "f9c664122d2f436c8fed65930374875c": {
     "model_module": "@jupyter-widgets/base",
     "model_module_version": "1.2.0",
     "model_name": "LayoutModel",
     "state": {
      "_model_module": "@jupyter-widgets/base",
      "_model_module_version": "1.2.0",
      "_model_name": "LayoutModel",
      "_view_count": null,
      "_view_module": "@jupyter-widgets/base",
      "_view_module_version": "1.2.0",
      "_view_name": "LayoutView",
      "align_content": null,
      "align_items": null,
      "align_self": null,
      "border": null,
      "bottom": null,
      "display": null,
      "flex": null,
      "flex_flow": null,
      "grid_area": null,
      "grid_auto_columns": null,
      "grid_auto_flow": null,
      "grid_auto_rows": null,
      "grid_column": null,
      "grid_gap": null,
      "grid_row": null,
      "grid_template_areas": null,
      "grid_template_columns": null,
      "grid_template_rows": null,
      "height": null,
      "justify_content": null,
      "justify_items": null,
      "left": null,
      "margin": null,
      "max_height": null,
      "max_width": null,
      "min_height": null,
      "min_width": null,
      "object_fit": null,
      "object_position": null,
      "order": null,
      "overflow": null,
      "overflow_x": null,
      "overflow_y": null,
      "padding": null,
      "right": null,
      "top": null,
      "visibility": null,
      "width": null
     }
    },
    "fc2f3446757d40799e91e93517a580d0": {
     "model_module": "@jupyter-widgets/base",
     "model_module_version": "1.2.0",
     "model_name": "LayoutModel",
     "state": {
      "_model_module": "@jupyter-widgets/base",
      "_model_module_version": "1.2.0",
      "_model_name": "LayoutModel",
      "_view_count": null,
      "_view_module": "@jupyter-widgets/base",
      "_view_module_version": "1.2.0",
      "_view_name": "LayoutView",
      "align_content": null,
      "align_items": null,
      "align_self": null,
      "border": null,
      "bottom": null,
      "display": null,
      "flex": null,
      "flex_flow": null,
      "grid_area": null,
      "grid_auto_columns": null,
      "grid_auto_flow": null,
      "grid_auto_rows": null,
      "grid_column": null,
      "grid_gap": null,
      "grid_row": null,
      "grid_template_areas": null,
      "grid_template_columns": null,
      "grid_template_rows": null,
      "height": null,
      "justify_content": null,
      "justify_items": null,
      "left": null,
      "margin": null,
      "max_height": null,
      "max_width": null,
      "min_height": null,
      "min_width": null,
      "object_fit": null,
      "object_position": null,
      "order": null,
      "overflow": null,
      "overflow_x": null,
      "overflow_y": null,
      "padding": null,
      "right": null,
      "top": null,
      "visibility": null,
      "width": null
     }
    }
   }
  }
 },
 "nbformat": 4,
 "nbformat_minor": 1
}
