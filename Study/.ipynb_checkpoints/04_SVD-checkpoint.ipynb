{
 "cells": [
  {
   "cell_type": "markdown",
   "id": "9302364b",
   "metadata": {},
   "source": [
    "# SVD decomposition with `scipy`|`numpy`\n",
    "\n",
    "Singular Value Decomposition (SVD) is a fundamental matrix factorization method in linear algebra. It is used to decompose a matrix into three simpler matrices and is widely used in various fields, including signal processing, image compression, and data analysis.\n",
    "\n",
    "SVD is important because it provides a useful way to find the best low-rank approximation of a matrix, helping to reduce the dimensionality of the data while preserving its essential features. This is especially useful in applications such as image compression, noise reduction, and recommendation systems.\n",
    "\n",
    "### Full SVD (`full_matrices = True` - default)\n",
    "Full matrices -> \n",
    "\n",
    "**input:**\n",
    "\n",
    "$A \\in \\mathbb{R}^{m\\times n}$\n",
    "\n",
    "**output:**\n",
    "\n",
    "$U \\in \\mathbb{R}^{m\\times m}, S \\in \\mathbb{R}^{m\\times n}, V \\in \\mathbb{R}^{n\\times n}$\n",
    "\n",
    "or, more precisely\n",
    "\n",
    "$\\boldsymbol{\\sigma} \\in \\mathbb{R}^{q} $\n",
    "\n",
    "where $q = \\min(m,n)$.\n"
   ]
  },
  {
   "cell_type": "code",
   "execution_count": 2,
   "id": "e9294ed1",
   "metadata": {},
   "outputs": [
    {
     "name": "stdout",
     "output_type": "stream",
     "text": [
      "U:\n",
      "[[-0.65886033  0.16584172  0.63695307  0.24600968  0.26864405]\n",
      " [-0.39403682 -0.05622352 -0.20204862 -0.8377457   0.31453522]\n",
      " [-0.50432716 -0.68984905 -0.37561143  0.3006122  -0.19573136]\n",
      " [-0.22548178  0.17798152  0.20732577 -0.28972076 -0.88913354]\n",
      " [-0.32473087  0.67953389 -0.60778222  0.25170533 -0.0053623 ]]\n",
      "\n",
      "S:\n",
      "[2.2887971  0.63143967 0.42682164 0.1587041 ]\n",
      "\n",
      "VT:\n",
      "[[-0.48990241 -0.58116542 -0.46309503 -0.45583482]\n",
      " [ 0.62623068 -0.61122349  0.3885802  -0.28852454]\n",
      " [-0.57390406  0.01270026  0.79279415 -0.20481764]\n",
      " [ 0.1961247   0.53711387 -0.07762631 -0.81671167]]\n"
     ]
    }
   ],
   "source": [
    "import scipy.linalg as la\n",
    "import numpy as np\n",
    "\n",
    "A = np.random.rand(5,4)\n",
    "# Perform Singular Value Decomposition (SVD)\n",
    "U, S, VT = np.linalg.svd(A)\n",
    "\n",
    "# U, S, and VT are matrices resulting from the decomposition\n",
    "print(\"U:\") # left singular vectors of A\n",
    "print(U)\n",
    "print(\"\\nS:\") # diagonal matrix with non-negative real numbers on the diagonal, which represents the singular values of A\n",
    "print(S)\n",
    "print(\"\\nVT:\") # Right singular vectors of A\n",
    "print(VT)"
   ]
  },
  {
   "cell_type": "markdown",
   "id": "e3981cef",
   "metadata": {},
   "source": [
    "##  `linalg.diagsvd()`\n",
    "The `linalg.diagsvd(s, M, N)` function is used to construct a matrix with singular values specified by `s`.\n",
    "\n",
    "**Parameters:**\n",
    "- `s` (array_like): The singular values.\n",
    "- `M` (int): The number of rows in the output matrix.\n",
    "- `N` (int): The number of columns in the output matrix.\n",
    "\n",
    "**Example:**"
   ]
  },
  {
   "cell_type": "code",
   "execution_count": 4,
   "id": "73e8fd0e",
   "metadata": {},
   "outputs": [
    {
     "name": "stdout",
     "output_type": "stream",
     "text": [
      "[[2.  0.  0. ]\n",
      " [0.  1.  0. ]\n",
      " [0.  0.  0.5]\n",
      " [0.  0.  0. ]]\n"
     ]
    }
   ],
   "source": [
    "import numpy as np\n",
    "from scipy.linalg import diagsvd\n",
    "\n",
    "# Define singular values\n",
    "s = [2.0, 1.0, 0.5]\n",
    "\n",
    "# Create a matrix with singular values\n",
    "matrix = diagsvd(s, 4, 3)\n",
    "print(matrix)"
   ]
  },
  {
   "cell_type": "code",
   "execution_count": null,
   "id": "6933c07a",
   "metadata": {},
   "outputs": [],
   "source": []
  }
 ],
 "metadata": {
  "kernelspec": {
   "display_name": "Python 3 (ipykernel)",
   "language": "python",
   "name": "python3"
  },
  "language_info": {
   "codemirror_mode": {
    "name": "ipython",
    "version": 3
   },
   "file_extension": ".py",
   "mimetype": "text/x-python",
   "name": "python",
   "nbconvert_exporter": "python",
   "pygments_lexer": "ipython3",
   "version": "3.11.5"
  }
 },
 "nbformat": 4,
 "nbformat_minor": 5
}
