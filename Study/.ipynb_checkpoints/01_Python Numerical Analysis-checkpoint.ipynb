{
 "cells": [
  {
   "cell_type": "markdown",
   "id": "eaa7c720",
   "metadata": {},
   "source": [
    "# Python\n",
    "\n",
    "**Problem.** The well known Fibonacci sequence is defined by the following recursive relation:\n",
    "\n",
    "$$\n",
    "F(0)=0, \\\\\n",
    "F(1)=1, \\\\\n",
    "F(n)=F(n-1)+F(n-2).\n",
    "$$\n",
    "\n",
    "Let us write a function that computes the n*th* term of the sequence using recursion."
   ]
  },
  {
   "cell_type": "code",
   "execution_count": 2,
   "id": "8608cabf",
   "metadata": {},
   "outputs": [],
   "source": [
    "def recfib(n):\n",
    "   # add check for input!\n",
    "   if n <= 1:\n",
    "       return n\n",
    "   else:\n",
    "       return(recfib(n-1) + recfib(n-2))"
   ]
  },
  {
   "cell_type": "code",
   "execution_count": 3,
   "id": "d8e5be97",
   "metadata": {},
   "outputs": [
    {
     "name": "stdout",
     "output_type": "stream",
     "text": [
      "[10, 12, 14, 16, 18]\n"
     ]
    }
   ],
   "source": [
    "R2=range(10,20,2)\n",
    "print(list(R2))"
   ]
  },
  {
   "cell_type": "code",
   "execution_count": 4,
   "id": "0b8941ae",
   "metadata": {},
   "outputs": [
    {
     "name": "stdout",
     "output_type": "stream",
     "text": [
      "[20, 19, 18, 17, 16, 15, 14, 13, 12, 11]\n"
     ]
    }
   ],
   "source": [
    "R3=range(20,10,-1)\n",
    "print(list(R3))"
   ]
  },
  {
   "cell_type": "markdown",
   "id": "e85053de",
   "metadata": {},
   "source": [
    "Now let us use the *list comprehension* technique to obtain the sequence up to the n*th* term.\n",
    "\n",
    "*List compehension* in Python is a concise way of creating lists from the ones that already exist."
   ]
  },
  {
   "cell_type": "code",
   "execution_count": 5,
   "id": "201a8aaf",
   "metadata": {},
   "outputs": [
    {
     "name": "stdout",
     "output_type": "stream",
     "text": [
      "[0, 1, 1, 2, 3, 5, 8, 13, 21, 34, 55, 89, 144, 233, 377]\n"
     ]
    }
   ],
   "source": [
    "F=[recfib(n) for n in range(15)]\n",
    "print(F)"
   ]
  },
  {
   "cell_type": "markdown",
   "id": "2357c7a3",
   "metadata": {},
   "source": [
    "Let us see how we can extract elements from the list using the *slicing* technique: in general given a Pytho list $L$ you can use the syntax\n",
    "<code>L(start:stop:step)</code>, where all parameters are optional."
   ]
  },
  {
   "cell_type": "code",
   "execution_count": null,
   "id": "c307699b",
   "metadata": {},
   "outputs": [],
   "source": [
    "F[1:4]  # NOTE: the 4th element is not included!"
   ]
  },
  {
   "cell_type": "code",
   "execution_count": null,
   "id": "ec1f8887",
   "metadata": {},
   "outputs": [],
   "source": [
    "F[5:] # From the 5th element to the end (included)!"
   ]
  },
  {
   "cell_type": "code",
   "execution_count": null,
   "id": "65dc382c",
   "metadata": {},
   "outputs": [],
   "source": [
    "F[3:11:3] # From 3 to 11 (excluded), step by 3"
   ]
  },
  {
   "cell_type": "markdown",
   "id": "f6698a7b",
   "metadata": {},
   "source": [
    "# Numpy\n",
    "We introduce also **Numpy** which is the module of Python that provides the implementation of arrays.\n",
    "## 1. `random.rand()`\n",
    "The `random.rand()` function generates random numbers from a uniform distribution between 0 and 1.\n",
    "\n",
    "**Example:**\n"
   ]
  },
  {
   "cell_type": "code",
   "execution_count": 17,
   "id": "1fb4b74b",
   "metadata": {},
   "outputs": [
    {
     "name": "stdout",
     "output_type": "stream",
     "text": [
      "[[0.7427411  0.80716082 0.55895528]\n",
      " [0.95486878 0.02854306 0.54991498]\n",
      " [0.07371135 0.44179433 0.11951704]]\n"
     ]
    }
   ],
   "source": [
    "import numpy as np\n",
    "\n",
    "# Generate a 3x3 array of random numbers\n",
    "random_array = np.random.rand(3, 3)\n",
    "print(random_array)"
   ]
  },
  {
   "cell_type": "markdown",
   "id": "50dee497",
   "metadata": {},
   "source": [
    "## 2. `linalg.svd()`\n",
    "The `linalg.svd()` function performs Singular Value Decomposition (SVD) on a matrix.\n",
    "\n",
    "**Example:**"
   ]
  },
  {
   "cell_type": "code",
   "execution_count": null,
   "id": "5e662454",
   "metadata": {},
   "outputs": [],
   "source": [
    "import numpy as np\n",
    "\n",
    "# Create a sample matrix\n",
    "matrix = np.array([[1, 2], [3, 4]])\n",
    "\n",
    "# Perform SVD\n",
    "U, S, VT = np.linalg.svd(matrix)\n",
    "print(\"U:\")\n",
    "print(U)\n",
    "print(\"S:\")\n",
    "print(S)\n",
    "print(\"VT:\")\n",
    "print(VT)"
   ]
  },
  {
   "cell_type": "markdown",
   "id": "a265b60a",
   "metadata": {},
   "source": [
    "## 3. `shape`\n",
    "The `shape` attribute returns the dimensions (shape) of a NumPy array.\n",
    "\n",
    "**Example:**"
   ]
  },
  {
   "cell_type": "code",
   "execution_count": 22,
   "id": "d85aae09",
   "metadata": {},
   "outputs": [
    {
     "name": "stdout",
     "output_type": "stream",
     "text": [
      "(2, 3)\n"
     ]
    }
   ],
   "source": [
    "import numpy as np\n",
    "\n",
    "# Create an array\n",
    "arr = np.array([[1, 2, 3], [4, 5, 6]])\n",
    "\n",
    "# Get the shape of the array\n",
    "array_shape = arr.shape\n",
    "print(array_shape)"
   ]
  },
  {
   "cell_type": "markdown",
   "id": "9f6ae7c0",
   "metadata": {},
   "source": [
    "## 4. `zeros()`\n",
    "The `zeros()` function creates a NumPy array filled with zeros.\n",
    "\n",
    "**Example:**"
   ]
  },
  {
   "cell_type": "code",
   "execution_count": 23,
   "id": "7f844047",
   "metadata": {},
   "outputs": [
    {
     "name": "stdout",
     "output_type": "stream",
     "text": [
      "[[0. 0. 0.]\n",
      " [0. 0. 0.]]\n"
     ]
    }
   ],
   "source": [
    "import numpy as np\n",
    "\n",
    "# Create a 2x3 array filled with zeros\n",
    "zeros_array = np.zeros((2, 3))\n",
    "print(zeros_array)"
   ]
  },
  {
   "cell_type": "markdown",
   "id": "ce490f29",
   "metadata": {},
   "source": [
    "## 5. `matmul()`\n",
    "The `matmul()` function performs matrix multiplication between two arrays.\n",
    "\n",
    "**Example:**"
   ]
  },
  {
   "cell_type": "code",
   "execution_count": 24,
   "id": "0ebf0b3d",
   "metadata": {},
   "outputs": [
    {
     "name": "stdout",
     "output_type": "stream",
     "text": [
      "[[19 22]\n",
      " [43 50]]\n"
     ]
    }
   ],
   "source": [
    "import numpy as np\n",
    "\n",
    "# Create two matrices\n",
    "matrix1 = np.array([[1, 2], [3, 4]])\n",
    "matrix2 = np.array([[5, 6], [7, 8]])\n",
    "\n",
    "# Perform matrix multiplication\n",
    "result = np.matmul(matrix1, matrix2)\n",
    "print(result)"
   ]
  },
  {
   "cell_type": "markdown",
   "id": "795c2695",
   "metadata": {},
   "source": [
    "## 6. `dot()`\n",
    "The `dot()` function calculates the dot product of two arrays (vectorial product or matrix product, based on input).\n",
    "\n",
    "**Example:**"
   ]
  },
  {
   "cell_type": "code",
   "execution_count": 25,
   "id": "42656637",
   "metadata": {},
   "outputs": [
    {
     "name": "stdout",
     "output_type": "stream",
     "text": [
      "32\n"
     ]
    }
   ],
   "source": [
    "import numpy as np\n",
    "\n",
    "# Create two arrays\n",
    "array1 = np.array([1, 2, 3])\n",
    "array2 = np.array([4, 5, 6])\n",
    "\n",
    "# Calculate the dot product\n",
    "dot_product = np.dot(array1, array2)\n",
    "print(dot_product)"
   ]
  },
  {
   "cell_type": "markdown",
   "id": "5ec7395a",
   "metadata": {},
   "source": [
    "## 7. `diag()`\n",
    "The `diag()` function extracts the diagonal elements of a matrix, returning a npArray.\n",
    "\n",
    "**Example:**"
   ]
  },
  {
   "cell_type": "code",
   "execution_count": 26,
   "id": "7f750a88",
   "metadata": {},
   "outputs": [
    {
     "name": "stdout",
     "output_type": "stream",
     "text": [
      "<class 'numpy.ndarray'>\n"
     ]
    }
   ],
   "source": [
    "import numpy as np\n",
    "\n",
    "# Create a matrix\n",
    "matrix = np.array([[1, 2, 3], [4, 5, 6], [7, 8, 9]])\n",
    "\n",
    "# Extract the diagonal elements\n",
    "diagonal_elements = np.diag(matrix)\n",
    "print(type(diagonal_elements))"
   ]
  },
  {
   "cell_type": "markdown",
   "id": "b9c97274",
   "metadata": {},
   "source": [
    "## 8. `mean()`\n",
    "The `mean()` function calculates the mean (average) of the elements in an array.\n",
    "\n",
    "**Example:**"
   ]
  },
  {
   "cell_type": "code",
   "execution_count": 27,
   "id": "b0dc2e63",
   "metadata": {},
   "outputs": [
    {
     "name": "stdout",
     "output_type": "stream",
     "text": [
      "30.0\n"
     ]
    }
   ],
   "source": [
    "import numpy as np\n",
    "\n",
    "# Create an array\n",
    "data = np.array([10, 20, 30, 40, 50])\n",
    "\n",
    "# Calculate the mean\n",
    "mean_value = np.mean(data)\n",
    "print(mean_value)"
   ]
  },
  {
   "cell_type": "markdown",
   "id": "c67b6bed",
   "metadata": {},
   "source": [
    "## 9. `linalg.qr()`\n",
    "The `linalg.qr()` function performs QR decomposition on a matrix.\n",
    "\n",
    "**Example:**"
   ]
  },
  {
   "cell_type": "code",
   "execution_count": 28,
   "id": "c7ab25df",
   "metadata": {},
   "outputs": [
    {
     "name": "stdout",
     "output_type": "stream",
     "text": [
      "Q:\n",
      "[[-0.31622777 -0.9486833 ]\n",
      " [-0.9486833   0.31622777]]\n",
      "R:\n",
      "[[-3.16227766 -4.42718872]\n",
      " [ 0.         -0.63245553]]\n"
     ]
    }
   ],
   "source": [
    "import numpy as np\n",
    "\n",
    "# Create a sample matrix\n",
    "matrix = np.array([[1, 2], [3, 4]])\n",
    "\n",
    "# Perform QR decomposition\n",
    "Q, R = np.linalg.qr(matrix)\n",
    "print(\"Q:\")\n",
    "print(Q)\n",
    "print(\"R:\")\n",
    "print(R)"
   ]
  },
  {
   "cell_type": "code",
   "execution_count": 29,
   "id": "7a829b2c",
   "metadata": {},
   "outputs": [],
   "source": [
    "import math as mt\n",
    "import random\n",
    "import numpy as np\n",
    "\n",
    "def compute_pi_mc_g(N):\n",
    "\n",
    "  circle_points = 0\n",
    "  square_points = 0\n",
    "  x_in=[]\n",
    "  y_in=[]\n",
    "  x_out=[]\n",
    "  y_out=[]\n",
    "  vec_pi_est = np.empty([N])\n",
    "\n",
    "  for i in range(N):\n",
    "    # Generate a random point\n",
    "    rand_x = random.uniform(-1, 1)\n",
    "    rand_y = random.uniform(-1, 1)\n",
    "\n",
    "    # Compute the distance of the point from the origin\n",
    "    dist = mt.sqrt(rand_x**2 + rand_y**2)\n",
    "\n",
    "    # Check if the point lies inside the circle\n",
    "    if dist <= 1:\n",
    "      circle_points += 1\n",
    "      x_in = x_in + [rand_x]  #x_in.append(rand_x)\n",
    "      y_in = y_in + [rand_y]  #y_in.append(rand_y)\n",
    "    else:\n",
    "      x_out.append(rand_x)\n",
    "      y_out.append(rand_y)\n",
    "\n",
    "    square_points += 1\n",
    "\n",
    "    # Estimate the value of pi\n",
    "    pi_est = 4.0 * circle_points / square_points\n",
    "    vec_pi_est[i] = pi_est\n",
    "\n",
    "  return pi_est,x_in,y_in,x_out,y_out,vec_pi_est"
   ]
  },
  {
   "cell_type": "markdown",
   "id": "1e3637df",
   "metadata": {},
   "source": [
    "# matplotlib\n",
    "The module of Python for plotting is **Matplotlib**.\n",
    "## 1. `rcParams()`\n",
    "The `rcParams(key=, value=)` function allows you to configure various settings and parameters for Matplotlib to customize the appearance of your plots.\n",
    "\n",
    "**Parameters:**\n",
    "- `key` (str): A string specifying the parameter to configure.\n",
    "- `value` (various): The value to set for the specified parameter.\n",
    "\n",
    "**Role:**\n",
    "- This function lets you customize various Matplotlib settings, such as figure size, font size, and more.\n",
    "\n",
    "**Example:**"
   ]
  },
  {
   "cell_type": "code",
   "execution_count": null,
   "id": "851889cc",
   "metadata": {},
   "outputs": [],
   "source": [
    "import matplotlib.pyplot as plt\n",
    "\n",
    "# Configure Matplotlib settings\n",
    "plt.rcParams['figure.figsize'] = [8, 6]\n",
    "plt.rcParams['font.size'] = 12"
   ]
  },
  {
   "cell_type": "markdown",
   "id": "9c4c07e4",
   "metadata": {},
   "source": [
    "## 2. `imread()`\n",
    "The `imread(fname=)` function is used to read and load images from files. It's often used in combination with imshow() to display images.\n",
    "\n",
    "**Parameters:**\n",
    "\n",
    "- `fname` (str): The file path or URL of the image to read.\n",
    "\n",
    "**Role:**\n",
    "\n",
    "- This function reads and loads images from files, allowing you to work with image data in Matplotlib.\n",
    "\n",
    "**Example:**"
   ]
  },
  {
   "cell_type": "code",
   "execution_count": null,
   "id": "dcb63203",
   "metadata": {},
   "outputs": [],
   "source": [
    "import matplotlib.pyplot as plt\n",
    "import matplotlib.image as mpimg\n",
    "\n",
    "# Read and load an image\n",
    "image = mpimg.imread('example.png')\n",
    "\n",
    "# Display the image\n",
    "plt.imshow(image)\n",
    "plt.axis('off')  # Turn off axis labels and ticks\n",
    "plt.show()"
   ]
  },
  {
   "cell_type": "markdown",
   "id": "5bf5ca55",
   "metadata": {},
   "source": [
    "## 3. `imshow(X=, cmap=, interpolation=)`\n",
    "The `imshow(X=, cmap=, interpolation=)` function is used to display images in Matplotlib figures.\n",
    "\n",
    "**Parameters:**\n",
    "\n",
    "- X (array-like): The image data to display.\n",
    "- cmap (colormap, optional): The colormap to use for mapping data values to colors.\n",
    "- interpolation (str, optional): The interpolation method for displaying the image.\n",
    "\n",
    "**Role:**\n",
    "\n",
    "- This function displays images within Matplotlib figures, allowing you to visualize image data.\n",
    "\n",
    "**Example:**"
   ]
  },
  {
   "cell_type": "code",
   "execution_count": null,
   "id": "20d90493",
   "metadata": {},
   "outputs": [],
   "source": [
    "import matplotlib.pyplot as plt\n",
    "import matplotlib.image as mpimg\n",
    "\n",
    "# Read and load an image\n",
    "image = mpimg.imread('example.png')\n",
    "\n",
    "# Display the image with customization\n",
    "plt.imshow(image, cmap='viridis', interpolation='nearest')\n",
    "plt.title('Example Image')\n",
    "plt.colorbar()  # Add a colorbar\n",
    "plt.show()"
   ]
  },
  {
   "cell_type": "markdown",
   "id": "2941180f",
   "metadata": {},
   "source": [
    "## 4. `axis(args=)`\n",
    "The `axis(args=)` function is used to customize the properties of plot axes, such as limits, labels, and scales.\n",
    "\n",
    "**Parameters:**\n",
    "\n",
    "- args (list of str): A list of arguments specifying axis properties. Common arguments include 'on', 'off', 'equal', and more.\n",
    "\n",
    "**Role:**\n",
    "\n",
    "- This function allows you to customize the appearance and behavior of plot axes.\n",
    "\n",
    "**Example:**"
   ]
  },
  {
   "cell_type": "code",
   "execution_count": 45,
   "id": "1bce51b7",
   "metadata": {},
   "outputs": [
    {
     "data": {
      "image/png": "[encoded data removed]",
      "text/plain": [
       "<Figure size 200x200 with 1 Axes>"
      ]
     },
     "metadata": {},
     "output_type": "display_data"
    }
   ],
   "source": [
    "import matplotlib.pyplot as plt\n",
    "\n",
    "# Create a simple plot\n",
    "x = [1, 2, 3, 4, 5]\n",
    "y = [1, 4, 9, 16, 25]\n",
    "\n",
    "plt.rcParams['figure.figsize'] = [2, 2]\n",
    "plt.plot(x, y)\n",
    "# Customize the axis properties\n",
    "plt.xlabel('X-axis')\n",
    "plt.ylabel('Y-axis')\n",
    "plt.title('Customized Axis')\n",
    "plt.xlim(0, 6)  # Set x-axis limits\n",
    "plt.ylim(0, 30)  # Set y-axis limits\n",
    "plt.grid(True)  # Show gridlines\n",
    "# Set custom axis limits\n",
    "plt.axis([0, 6, 0, 25])  # [xmin, xmax, ymin, ymax]\n",
    "plt.show()"
   ]
  },
  {
   "cell_type": "markdown",
   "id": "6af1689f",
   "metadata": {},
   "source": [
    "## 5. `set_cmap(cmap= )`\n",
    "The `set_cmap()` function is used to set the colormap for a plot.\n",
    "\n",
    "**Parameters:**\n",
    "- `cmap` (str or Colormap): The colormap to use for the plot.\n",
    "\n",
    "**Example:**\n"
   ]
  },
  {
   "cell_type": "code",
   "execution_count": 46,
   "id": "67a50c93",
   "metadata": {},
   "outputs": [
    {
     "data": {
      "image/png": "[encoded data removed]",
      "text/plain": [
       "<Figure size 200x200 with 2 Axes>"
      ]
     },
     "metadata": {},
     "output_type": "display_data"
    }
   ],
   "source": [
    "import matplotlib.pyplot as plt\n",
    "import numpy as np\n",
    "\n",
    "# Create sample data\n",
    "x = np.linspace(0, 2 * np.pi, 100)\n",
    "y = np.sin(x)\n",
    "\n",
    "# Create a figure and axis\n",
    "fig, ax = plt.subplots()\n",
    "\n",
    "# Plot the data with a specific colormap\n",
    "sc = ax.scatter(x, y, c=x, cmap='viridis')\n",
    "plt.colorbar(sc)\n",
    "plt.rcParams['figure.figsize'] = [2, 2]\n",
    "ax.set_title('Set Colormap for a Plot')\n",
    "plt.show()"
   ]
  },
  {
   "cell_type": "markdown",
   "id": "3d1bb645",
   "metadata": {},
   "source": [
    "## 6. `subplots(nrows= , ncols= )`\n",
    "The `subplots()` function is used to create subplots within a single figure.\n",
    "\n",
    "**Parameters:**\n",
    "\n",
    "- nrows (int): The number of rows of subplots.\n",
    "- ncols (int): The number of columns of subplots.\n",
    "\n",
    "**Example:**"
   ]
  },
  {
   "cell_type": "code",
   "execution_count": 47,
   "id": "dc975dc3",
   "metadata": {},
   "outputs": [
    {
     "data": {
      "image/png": "[encoded data removed]",
      "text/plain": [
       "<Figure size 200x200 with 2 Axes>"
      ]
     },
     "metadata": {},
     "output_type": "display_data"
    }
   ],
   "source": [
    "import matplotlib.pyplot as plt\n",
    "import numpy as np\n",
    "\n",
    "# Create data\n",
    "x = np.linspace(0, 2 * np.pi, 100)\n",
    "y1 = np.sin(x)\n",
    "y2 = np.cos(x)\n",
    "\n",
    "# Create a figure with two subplots\n",
    "fig, (ax1, ax2) = plt.subplots(2, 1)\n",
    "\n",
    "# Plot data on the subplots\n",
    "ax1.plot(x, y1)\n",
    "ax1.set_title('Subplot 1: Sine Function')\n",
    "\n",
    "ax2.plot(x, y2)\n",
    "ax2.set_title('Subplot 2: Cosine Function')\n",
    "plt.rcParams['figure.figsize'] = [2, 2]\n",
    "plt.tight_layout()\n",
    "plt.show()"
   ]
  },
  {
   "cell_type": "markdown",
   "id": "a70c7af4",
   "metadata": {},
   "source": [
    "## 7. `reshape(shape= )`\n",
    "The `reshape()` function is used to reshape a NumPy array.\n",
    "\n",
    "**Parameters:**\n",
    "\n",
    "- shape (tuple): The new shape of the array.\n",
    "\n",
    "**Example:**"
   ]
  },
  {
   "cell_type": "code",
   "execution_count": 49,
   "id": "325a0493",
   "metadata": {},
   "outputs": [
    {
     "name": "stdout",
     "output_type": "stream",
     "text": [
      "[[ 1  2  3  4  5]\n",
      " [ 6  7  8  9 10]]\n"
     ]
    }
   ],
   "source": [
    "import numpy as np\n",
    "\n",
    "# Create a sample data array\n",
    "data = np.array([1, 2, 3, 4, 5, 6, 7, 8, 9, 10])\n",
    "\n",
    "# Reshape the data array into a 2x5 grid\n",
    "data_reshaped = data.reshape(2, 5)\n",
    "\n",
    "print(data_reshaped)"
   ]
  },
  {
   "cell_type": "markdown",
   "id": "2282e7dc",
   "metadata": {},
   "source": [
    "4. `grid(b= , which= , axis= , color= , linestyle= , linewidth= )`\n",
    "The `grid()` function is used to add gridlines to a plot.\n",
    "\n",
    "**Parameters:\n",
    "\n",
    "- b (bool): Whether to show gridlines (True or False).\n",
    "- which (str or {'major', 'minor', 'both'}): Which gridlines to display.\n",
    "- axis (str or {'both', 'x', 'y'}): Which axis to apply gridlines to.\n",
    "- color (str or RGB color): The color of the gridlines.\n",
    "- linestyle (str): The linestyle of the gridlines.\n",
    "- linewidth (float): The width of the gridlines.\n",
    "\n",
    "**Example:"
   ]
  },
  {
   "cell_type": "code",
   "execution_count": 52,
   "id": "72afd627",
   "metadata": {},
   "outputs": [
    {
     "data": {
      "image/png": "[encoded data removed]",
      "text/plain": [
       "<Figure size 200x200 with 1 Axes>"
      ]
     },
     "metadata": {},
     "output_type": "display_data"
    }
   ],
   "source": [
    "import matplotlib.pyplot as plt\n",
    "\n",
    "# Create a simple plot\n",
    "x = [1, 2, 3, 4, 5]\n",
    "y = [10, 12, 8, 15, 11]\n",
    "\n",
    "plt.plot(x, y)\n",
    "\n",
    "# Customize the axis properties\n",
    "plt.xlabel('X-axis')\n",
    "plt.ylabel('Y-axis')\n",
    "plt.title('Customized Axis')\n",
    "\n",
    "# Add gridlines\n",
    "plt.grid(True, which='both', axis='both', color='gray', linestyle='--', linewidth=0.5)\n",
    "plt.rcParams['figure.figsize'] = [2, 2]\n",
    "plt.show()"
   ]
  },
  {
   "cell_type": "code",
   "execution_count": 48,
   "id": "96d2fb69",
   "metadata": {},
   "outputs": [
    {
     "data": {
      "image/png": "[encoded data removed]",
      "text/plain": [
       "<Figure size 1000x1000 with 2 Axes>"
      ]
     },
     "metadata": {},
     "output_type": "display_data"
    }
   ],
   "source": [
    "import matplotlib.pyplot as plt\n",
    "N=1000\n",
    "pi_est,x_in,y_in,x_out,y_out,vec_pi_est = compute_pi_mc_g(N);\n",
    "\n",
    "plt.rcParams['figure.figsize'] = [10, 10] #figure sizes\n",
    "fig, (ax1, ax2) = plt.subplots(1, 2) #create a figure object and one or more axes (plots) within that figure\n",
    "\n",
    "#fig, ax = plt.subplots(nrows, ncols, **kwargs)\n",
    "\n",
    "# Draw a unit circle centered at the origin\n",
    "angles = np.linspace(0 * np.pi, 2 * np.pi, 100 ) #generate 100 numbers balanced between 0 and 2pi\n",
    "xs = np.cos(angles)\n",
    "ys = np.sin(angles)\n",
    "ax1.set_aspect( 1 )  #set ratio of axis x and axis y\n",
    "ax1.plot(xs, ys, color = 'blue') #design the figure with xs, ys point colored of blue -> a circle\n",
    "# Draw the points\n",
    "x_in = np.array(x_in)\n",
    "y_in = np.array(y_in)\n",
    "x_out = np.array(x_out)\n",
    "y_out = np.array(y_out)\n",
    "ax1.scatter(x_in,y_in,c='r')\n",
    "ax1.scatter(x_out,y_out,c='g')\n",
    "ax1.grid()\n",
    "\n",
    "ax2.grid()\n",
    "ax2.plot(vec_pi_est)\n",
    "ax2.set_aspect( 250 )\n"
   ]
  },
  {
   "cell_type": "markdown",
   "id": "07816792",
   "metadata": {},
   "source": [
    "## Design a 2D graph"
   ]
  },
  {
   "cell_type": "markdown",
   "id": "18c2d75f",
   "metadata": {},
   "source": [
    "## Design a 3D graph"
   ]
  },
  {
   "cell_type": "markdown",
   "id": "b3c6b5dd",
   "metadata": {},
   "source": [
    "## Visualize an image"
   ]
  },
  {
   "cell_type": "markdown",
   "id": "8921549c",
   "metadata": {},
   "source": [
    "## Visualize many images from a matrix"
   ]
  },
  {
   "cell_type": "markdown",
   "id": "7d394312",
   "metadata": {},
   "source": [
    "# Scipy\n",
    "\n",
    "## 1. `linalg.diagsvd()`\n",
    "The `linalg.diagsvd(s, M, N)` function is used to construct a matrix with singular values specified by `s`.\n",
    "\n",
    "**Parameters:**\n",
    "- `s` (array_like): The singular values.\n",
    "- `M` (int): The number of rows in the output matrix.\n",
    "- `N` (int): The number of columns in the output matrix.\n",
    "\n",
    "**Example:**"
   ]
  },
  {
   "cell_type": "code",
   "execution_count": 1,
   "id": "a70e40c9",
   "metadata": {},
   "outputs": [
    {
     "name": "stdout",
     "output_type": "stream",
     "text": [
      "[[2.  0.  0. ]\n",
      " [0.  1.  0. ]\n",
      " [0.  0.  0.5]\n",
      " [0.  0.  0. ]]\n"
     ]
    }
   ],
   "source": [
    "import numpy as np\n",
    "from scipy.linalg import diagsvd\n",
    "\n",
    "# Define singular values\n",
    "s = [2.0, 1.0, 0.5]\n",
    "\n",
    "# Create a matrix with singular values\n",
    "matrix = diagsvd(s, 4, 3)\n",
    "print(matrix)"
   ]
  },
  {
   "cell_type": "markdown",
   "id": "a27d1c1a",
   "metadata": {},
   "source": [
    "## 2. `linalg.norm()`\n",
    "The `linalg.norm(x, ord=)` function is used to compute various matrix norms or vector norms.\n",
    "\n",
    "**Parameters:**\n",
    "\n",
    "- x (array_like): The input array.\n",
    "- ord (int, optional): The order of the norm (default is 2 for L2 norm).\n",
    "\n",
    "**Example:"
   ]
  },
  {
   "cell_type": "code",
   "execution_count": null,
   "id": "64aefc04",
   "metadata": {},
   "outputs": [],
   "source": [
    "import numpy as np\n",
    "from scipy.linalg import norm\n",
    "\n",
    "# Create a vector\n",
    "vector = np.array([1, 2, 3])\n",
    "\n",
    "# Compute L2 norm (Euclidean norm)\n",
    "l2_norm = norm(vector)\n",
    "print(\"L2 Norm:\", l2_norm)\n",
    "\n",
    "# Compute L1 norm (Manhattan norm)\n",
    "l1_norm = norm(vector, ord=1)\n",
    "print(\"L1 Norm:\", l1_norm)"
   ]
  },
  {
   "cell_type": "markdown",
   "id": "8a09dbce",
   "metadata": {},
   "source": [
    "## 3. `linalg.svd()`\n",
    "The `linalg.svd(a, full_matrices=, compute_uv=)` function is used to perform Singular Value Decomposition (SVD) on a matrix a.\n",
    "\n",
    "**Parameters:\n",
    "\n",
    "- a (array_like): The input matrix.\n",
    "- full_matrices (bool, optional): If True, return the full-sized U and Vt matrices. If False, return only the leading singular vectors (default is True).\n",
    "- compute_uv (bool, optional): If True, compute the left singular vectors U and right singular vectors Vt (default is True).\n",
    "\n",
    "**Example:"
   ]
  },
  {
   "cell_type": "code",
   "execution_count": null,
   "id": "f9d2450e",
   "metadata": {},
   "outputs": [],
   "source": [
    "import numpy as np\n",
    "from scipy.linalg import svd\n",
    "\n",
    "# Create a sample matrix\n",
    "matrix = np.array([[1, 2], [3, 4]])\n",
    "\n",
    "# Perform SVD\n",
    "U, S, Vt = svd(matrix)\n",
    "\n",
    "print(\"U:\")\n",
    "print(U)\n",
    "print(\"S:\")\n",
    "print(S)\n",
    "print(\"Vt:\")\n",
    "print(Vt)"
   ]
  }
 ],
 "metadata": {
  "kernelspec": {
   "display_name": "Python 3 (ipykernel)",
   "language": "python",
   "name": "python3"
  },
  "language_info": {
   "codemirror_mode": {
    "name": "ipython",
    "version": 3
   },
   "file_extension": ".py",
   "mimetype": "text/x-python",
   "name": "python",
   "nbconvert_exporter": "python",
   "pygments_lexer": "ipython3",
   "version": "3.11.5"
  }
 },
 "nbformat": 4,
 "nbformat_minor": 5
}
