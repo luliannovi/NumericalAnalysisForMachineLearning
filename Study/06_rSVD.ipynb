{
 "cells": [
  {
   "cell_type": "markdown",
   "id": "b745a542",
   "metadata": {},
   "source": [
    "# Randomized Singular Value Decomposition\n",
    "\n",
    "rSVD stands for Randomized Singular Value Decomposition. It's a technique for approximating the Singular Value Decomposition (SVD) of a matrix using randomized algorithms. The traditional SVD can be computationally expensive, especially for large matrices. RSVD offers a faster alternative that relies on randomization to provide a low-rank approximation of the matrix.\n",
    "\n",
    "The basic idea behind RSVD is to multiply the original matrix by a random matrix and then perform a standard SVD on the resulting product. This randomized sampling helps capture the dominant singular values and corresponding singular vectors efficiently."
   ]
  },
  {
   "cell_type": "markdown",
   "id": "b756b328",
   "metadata": {},
   "source": [
    "Implement now a function that computes the randomized SVD of rank $k$ of a generic matrix $A$."
   ]
  },
  {
   "cell_type": "code",
   "execution_count": 1,
   "id": "0dc40904",
   "metadata": {},
   "outputs": [],
   "source": [
    "import numpy as np\n",
    "import matplotlib.pyplot as plt\n",
    "import matplotlib.image as mpimg\n",
    "def randomized_SVD(A, k):\n",
    "    # Step 1: Generate a random matrix Omega\n",
    "    m = A.shape[0]\n",
    "    n = A.shape[1]\n",
    "    Omega = np.random.randn(n, k)\n",
    "\n",
    "    # Step 2: Form the sample matrix Y\n",
    "    Y = np.dot(A,Omega)\n",
    "\n",
    "    # Step 3: Orthonormalize Y using QR decomposition\n",
    "    Q, _ = np.linalg.qr(Y, mode='reduced')\n",
    "\n",
    "    # Step 4: Form the matrix B\n",
    "    B = Q.T @ A\n",
    "\n",
    "    # Step 5: Compute the SVD of B\n",
    "    U_tilde, S, Vt = svd(B, full_matrices=False)\n",
    "\n",
    "    # Step 6: Approximate the SVD of A\n",
    "    U = Q @ U_tilde\n",
    "\n",
    "    return U, S, Vt"
   ]
  },
  {
   "cell_type": "markdown",
   "id": "0af9e555",
   "metadata": {},
   "source": [
    "Set $k=100$ and compute the randomized SVD of the picture used above."
   ]
  },
  {
   "cell_type": "code",
   "execution_count": 2,
   "id": "fc109479",
   "metadata": {},
   "outputs": [
    {
     "ename": "ValueError",
     "evalue": "shapes (567,630,3) and (630,100) not aligned: 3 (dim 2) != 630 (dim 0)",
     "output_type": "error",
     "traceback": [
      "\u001b[1;31m---------------------------------------------------------------------------\u001b[0m",
      "\u001b[1;31mValueError\u001b[0m                                Traceback (most recent call last)",
      "Cell \u001b[1;32mIn[2], line 6\u001b[0m\n\u001b[0;32m      4\u001b[0m A \u001b[38;5;241m=\u001b[39m mpimg\u001b[38;5;241m.\u001b[39mimread(image_path)\n\u001b[0;32m      5\u001b[0m k\u001b[38;5;241m=\u001b[39m\u001b[38;5;241m100\u001b[39m\n\u001b[1;32m----> 6\u001b[0m U_k, s, VT_k \u001b[38;5;241m=\u001b[39m randomized_SVD(A, k)\n\u001b[0;32m      7\u001b[0m \u001b[38;5;66;03m# Visualize the singular values\u001b[39;00m\n\u001b[0;32m      8\u001b[0m plt\u001b[38;5;241m.\u001b[39mplot(s, marker\u001b[38;5;241m=\u001b[39m\u001b[38;5;124m'\u001b[39m\u001b[38;5;124mo\u001b[39m\u001b[38;5;124m'\u001b[39m)\n",
      "Cell \u001b[1;32mIn[1], line 11\u001b[0m, in \u001b[0;36mrandomized_SVD\u001b[1;34m(A, k)\u001b[0m\n\u001b[0;32m      8\u001b[0m Omega \u001b[38;5;241m=\u001b[39m np\u001b[38;5;241m.\u001b[39mrandom\u001b[38;5;241m.\u001b[39mrandn(n, k)\n\u001b[0;32m     10\u001b[0m \u001b[38;5;66;03m# Step 2: Form the sample matrix Y\u001b[39;00m\n\u001b[1;32m---> 11\u001b[0m Y \u001b[38;5;241m=\u001b[39m np\u001b[38;5;241m.\u001b[39mdot(A,Omega)\n\u001b[0;32m     13\u001b[0m \u001b[38;5;66;03m# Step 3: Orthonormalize Y using QR decomposition\u001b[39;00m\n\u001b[0;32m     14\u001b[0m Q, _ \u001b[38;5;241m=\u001b[39m np\u001b[38;5;241m.\u001b[39mlinalg\u001b[38;5;241m.\u001b[39mqr(Y, mode\u001b[38;5;241m=\u001b[39m\u001b[38;5;124m'\u001b[39m\u001b[38;5;124mreduced\u001b[39m\u001b[38;5;124m'\u001b[39m)\n",
      "File \u001b[1;32m<__array_function__ internals>:200\u001b[0m, in \u001b[0;36mdot\u001b[1;34m(*args, **kwargs)\u001b[0m\n",
      "\u001b[1;31mValueError\u001b[0m: shapes (567,630,3) and (630,100) not aligned: 3 (dim 2) != 630 (dim 0)"
     ]
    }
   ],
   "source": [
    "# write here the import path of the image\n",
    "image_path = \"TarantulaNebula.jpg\"\n",
    "\n",
    "A = X = np.mean(img, axis=2)mpimg.imread(image_path)\n",
    "k=100\n",
    "U_k, s, VT_k = randomized_SVD(A, k)\n",
    "# Visualize the singular values\n",
    "plt.plot(s, marker='o')\n",
    "plt.title(f'Singular Values of A (Rank {k})')\n",
    "plt.xlabel('Singular Value Index')\n",
    "plt.ylabel('Singular Value Magnitude')\n",
    "plt.grid(True)\n",
    "plt.show()"
   ]
  },
  {
   "cell_type": "code",
   "execution_count": null,
   "id": "5b9e8935",
   "metadata": {},
   "outputs": [],
   "source": []
  }
 ],
 "metadata": {
  "kernelspec": {
   "display_name": "Python 3 (ipykernel)",
   "language": "python",
   "name": "python3"
  },
  "language_info": {
   "codemirror_mode": {
    "name": "ipython",
    "version": 3
   },
   "file_extension": ".py",
   "mimetype": "text/x-python",
   "name": "python",
   "nbconvert_exporter": "python",
   "pygments_lexer": "ipython3",
   "version": "3.11.4"
  }
 },
 "nbformat": 4,
 "nbformat_minor": 5
}
