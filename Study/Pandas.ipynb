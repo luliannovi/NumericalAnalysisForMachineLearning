{
 "cells": [
  {
   "cell_type": "markdown",
   "id": "71f64b91",
   "metadata": {},
   "source": [
    "# Pandas\n",
    "\n"
   ]
  },
  {
   "cell_type": "code",
   "execution_count": 1,
   "id": "8e261e01",
   "metadata": {},
   "outputs": [],
   "source": [
    "import pandas as pd"
   ]
  },
  {
   "cell_type": "markdown",
   "id": "918ab161",
   "metadata": {},
   "source": [
    "Pandas is an open-source data analysis and manipulation library for the Python programming language. It is primarily used for data manipulation and analysis tasks, such as cleaning, munging, transforming, and analyzing data. Pandas provides data structures like Series and DataFrame that are designed to make working with structured data more intuitive."
   ]
  },
  {
   "cell_type": "markdown",
   "id": "f60e62a3",
   "metadata": {},
   "source": [
    "## Data Reading and Writing Methods:\n",
    "\n",
    "`read_csv`, `read_excel`, `read_sql`: Methods for reading data from various sources.\n",
    "to_csv, to_excel, to_sql: Methods for writing data to different file formats or databases."
   ]
  },
  {
   "cell_type": "markdown",
   "id": "80ba1b4b",
   "metadata": {},
   "source": [
    "## Data Structure Creation Methods:\n",
    "\n",
    "`DataFrame`: Create a new DataFrame from data.\n",
    "\n",
    "`Series`: Create a new Series from data."
   ]
  },
  {
   "cell_type": "code",
   "execution_count": 2,
   "id": "e9e404b0",
   "metadata": {},
   "outputs": [
    {
     "name": "stdout",
     "output_type": "stream",
     "text": [
      "Full DataFrame:\n",
      "     Name  Age      City\n",
      "0    John   35  New York\n",
      "1    Anna   29     Paris\n",
      "2   Peter   45    London\n",
      "3   Linda   41    Sydney\n",
      "4  Sophia   27     Tokyo\n",
      "\n",
      "Series:\n",
      "0     0\n",
      "1     1\n",
      "2     4\n",
      "3     9\n",
      "4    16\n",
      "5    25\n",
      "dtype: int64\n"
     ]
    }
   ],
   "source": [
    "# Creating a DataFrame\n",
    "data = {'Name': ['John', 'Anna', 'Peter', 'Linda', 'Sophia'],\n",
    "        'Age': [35, 29, 45, 41, 27],\n",
    "        'City': ['New York', 'Paris', 'London', 'Sydney', 'Tokyo']}\n",
    "df = pd.DataFrame(data)\n",
    "\n",
    "# Displaying the DataFrame\n",
    "print(\"Full DataFrame:\")\n",
    "print(df)\n",
    "\n",
    "# Creating a Series\n",
    "s = pd.Series([0, 1, 4, 9, 16, 25])\n",
    "\n",
    "# Displaying the Series\n",
    "print(\"\\nSeries:\")\n",
    "print(s)"
   ]
  },
  {
   "cell_type": "markdown",
   "id": "0189b31e",
   "metadata": {},
   "source": [
    "## Data Inspection Methods:\n",
    "\n",
    "`head`, `tail`: Display the first or last few rows of the DataFrame.\n",
    "\n",
    "`info`, `describe`: Provide summary information about the DataFrame, including data types, non-null counts, and summary statistics."
   ]
  },
  {
   "cell_type": "code",
   "execution_count": 3,
   "id": "464d4b92",
   "metadata": {},
   "outputs": [
    {
     "name": "stdout",
     "output_type": "stream",
     "text": [
      "\n",
      "First few rows of the DataFrame:\n",
      "    Name  Age      City\n",
      "0   John   35  New York\n",
      "1   Anna   29     Paris\n",
      "2  Peter   45    London\n",
      "\n",
      "Last few rows of the DataFrame:\n",
      "     Name  Age    City\n",
      "3   Linda   41  Sydney\n",
      "4  Sophia   27   Tokyo\n"
     ]
    }
   ],
   "source": [
    "# Using head to display the first few rows of the DataFrame\n",
    "print(\"\\nFirst few rows of the DataFrame:\")\n",
    "print(df.head(3))  # Display the first 3 rows\n",
    "\n",
    "# Using tail to display the last few rows of the DataFrame\n",
    "print(\"\\nLast few rows of the DataFrame:\")\n",
    "print(df.tail(2))  # Display the last 2 rows"
   ]
  },
  {
   "cell_type": "markdown",
   "id": "21ea1e75",
   "metadata": {},
   "source": [
    "## Data Manipulation Methods:\n",
    "\n",
    "`dropna`, `fillna`: Handle missing data by dropping or filling missing values.\n",
    "\n",
    "`groupby`: Group data based on specified criteria.\n",
    "\n",
    "`merge`, `concat`: Combine DataFrames using various methods such as merging and concatenation.\n",
    "\n",
    "`pivot_table`, `melt`: Reshape data for analysis purposes."
   ]
  },
  {
   "cell_type": "markdown",
   "id": "9a7cf5b3",
   "metadata": {},
   "source": [
    "## Data Selection and Filtering Methods:\n",
    "\n",
    "`loc`, `iloc`: Select data by label or integer-location.\n",
    "\n",
    "`query`: Filter data using a query expression.\n",
    "\n",
    "`isin`: Check whether values are contained in a Series or DataFrame."
   ]
  },
  {
   "cell_type": "markdown",
   "id": "83418c48",
   "metadata": {},
   "source": [
    "## Data Analysis and Computation Methods:\n",
    "\n",
    "`mean`, `median`, `sum`: Compute descriptive statistics for data analysis.\n",
    "\n",
    "`apply`, `applymap`: Apply functions to elements or entire DataFrames.\n",
    "\n",
    "`value_counts`, `unique`: Obtain unique values or value counts in a Series."
   ]
  },
  {
   "cell_type": "markdown",
   "id": "fae6a03a",
   "metadata": {},
   "source": [
    "## Time Series Methods:\n",
    "\n",
    "`date_range`: Create a range of dates.\n",
    "\n",
    "`resample`: Resample time series data to a different frequency.\n",
    "\n",
    "`shift`, `diff`: Perform time series operations such as shifting and differencing."
   ]
  },
  {
   "cell_type": "code",
   "execution_count": null,
   "id": "5d9b6c36",
   "metadata": {},
   "outputs": [],
   "source": []
  }
 ],
 "metadata": {
  "kernelspec": {
   "display_name": "Python 3 (ipykernel)",
   "language": "python",
   "name": "python3"
  },
  "language_info": {
   "codemirror_mode": {
    "name": "ipython",
    "version": 3
   },
   "file_extension": ".py",
   "mimetype": "text/x-python",
   "name": "python",
   "nbconvert_exporter": "python",
   "pygments_lexer": "ipython3",
   "version": "3.11.5"
  }
 },
 "nbformat": 4,
 "nbformat_minor": 5
}
