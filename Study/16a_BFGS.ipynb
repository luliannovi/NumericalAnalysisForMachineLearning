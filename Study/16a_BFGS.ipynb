{
 "cells": [
  {
   "cell_type": "markdown",
   "metadata": {
    "id": "qdCkH2JM07eu"
   },
   "source": [
    "# Quasi-Newton methods: BFGS\n",
    "La caratteristica principale del metodo BFGS è la sua capacità di approssimare la matrice inversa della hessiana, una matrice che descrive la curvatura della funzione obiettivo, senza richiedere il calcolo esplicito della hessiana stessa. Ciò lo rende computazionalmente efficiente, in quanto evita la necessità di calcolare e invertire la hessiana durante ogni iterazione.\n",
    "\n",
    "Il nome \"quasi-Newton\" deriva dal fatto che il metodo BFGS appartiene alla categoria più ampia dei metodi quasi-Newtoniani, che sono progettati per approssimare l'inversa della hessiana senza calcolarla direttamente.\n",
    "\n",
    "In breve, il metodo BFGS è utilizzato per **risolvere problemi di ottimizzazione iterativamente**, cercando di trovare il **punto in cui la derivata della funzione obiettivo è zero (il minimo o il massimo)**. "
   ]
  },
  {
   "cell_type": "code",
   "execution_count": 1,
   "metadata": {
    "executionInfo": {
     "elapsed": 1842,
     "status": "ok",
     "timestamp": 1670743185597,
     "user": {
      "displayName": "Francesco Regazzoni",
      "userId": "08593163129562527691"
     },
     "user_tz": -60
    },
    "id": "T9vAduWLjiTl"
   },
   "outputs": [
    {
     "name": "stderr",
     "output_type": "stream",
     "text": [
      "C:\\Users\\luigi\\AppData\\Local\\Temp\\ipykernel_16424\\1989467522.py:9: DeprecationWarning: Accessing jax.config via the jax.config submodule is deprecated.\n",
      "  from jax.config import config\n"
     ]
    }
   ],
   "source": [
    "import numpy as np\n",
    "import jax\n",
    "import jax.numpy as jnp\n",
    "import scipy.optimize\n",
    "import scipy as sp\n",
    "import matplotlib.pyplot as plt\n",
    "\n",
    "# We enable double precision in JAX\n",
    "from jax.config import config\n",
    "config.update(\"jax_enable_x64\", True)"
   ]
  },
  {
   "cell_type": "markdown",
   "metadata": {
    "id": "VQmGG5duO6ig"
   },
   "source": [
    "Consider the [Rosenbrock function](https://en.wikipedia.org/wiki/Rosenbrock_function), that is minimized in $\\mathbf{x} = (1,1,\\dots,1)^T$:\n",
    "\n",
    "$$\\mathcal{L}(\\mathbf{x}) = \\sum_{i=1}^{N-1} [100 (x_{i+1} - x_i^2 )^2 + (1-x_i)^2]$$"
   ]
  },
  {
   "cell_type": "code",
   "execution_count": 4,
   "metadata": {
    "executionInfo": {
     "elapsed": 9,
     "status": "ok",
     "timestamp": 1670743185598,
     "user": {
      "displayName": "Francesco Regazzoni",
      "userId": "08593163129562527691"
     },
     "user_tz": -60
    },
    "id": "Ybmumhr1z32F"
   },
   "outputs": [],
   "source": [
    "def loss(x):\n",
    "    return sum(100.0 * (x[1:] - x[:-1]**2)**2 + (1 - x[:-1])**2)"
   ]
  },
  {
   "cell_type": "markdown",
   "metadata": {
    "id": "opnXVnczPDLj"
   },
   "source": [
    "Use `jax` to compute and compile the Rosenbrock function and its gradient."
   ]
  },
  {
   "cell_type": "code",
   "execution_count": 5,
   "metadata": {
    "executionInfo": {
     "elapsed": 9,
     "status": "ok",
     "timestamp": 1670743185599,
     "user": {
      "displayName": "Francesco Regazzoni",
      "userId": "08593163129562527691"
     },
     "user_tz": -60
    },
    "id": "lOyIpzkt0BN8"
   },
   "outputs": [],
   "source": [
    "grad = jax.grad(loss)\n",
    "\n",
    "loss_jit = jax.jit(loss)\n",
    "grad_jit = jax.jit(grad)"
   ]
  },
  {
   "cell_type": "code",
   "execution_count": 6,
   "metadata": {
    "colab": {
     "base_uri": "https://localhost:8080/"
    },
    "executionInfo": {
     "elapsed": 22064,
     "status": "ok",
     "timestamp": 1670743207655,
     "user": {
      "displayName": "Francesco Regazzoni",
      "userId": "08593163129562527691"
     },
     "user_tz": -60
    },
    "id": "5UW-vnUX0L3d",
    "outputId": "c4e53337-8e14-4b9e-aef8-187b65e3c42e"
   },
   "outputs": [
    {
     "name": "stdout",
     "output_type": "stream",
     "text": [
      "21.7 µs ± 779 ns per loop (mean ± std. dev. of 7 runs, 10,000 loops each)\n",
      "25.7 µs ± 13.1 µs per loop (mean ± std. dev. of 7 runs, 1 loop each)\n",
      "250 ms ± 9.68 ms per loop (mean ± std. dev. of 7 runs, 1 loop each)\n",
      "24.7 µs ± 11.3 µs per loop (mean ± std. dev. of 7 runs, 1 loop each)\n"
     ]
    }
   ],
   "source": [
    "N = 100\n",
    "x = np.random.rand(N)*2\n",
    "\n",
    "%timeit loss(x)\n",
    "%timeit loss_jit(x)\n",
    "%timeit grad(x)\n",
    "%timeit grad_jit(x)"
   ]
  },
  {
   "cell_type": "markdown",
   "metadata": {
    "id": "CEvFRykGQtzx"
   },
   "source": [
    "## Apply BFGS\n",
    "\n",
    "BFGS descrive la curvatura della funzione obiettivo. La curvatura descrive come la funzione si \"piega\" o \"curva\" in prossimità di quel punto specifico.\n",
    "\n",
    "Nel contesto dell'ottimizzazione, la curvatura è spesso associata alla hessiana della funzione obiettivo. La hessiana è una matrice delle seconde derivate parziali della funzione rispetto alle variabili indipendenti. In un punto stazionario, dove il gradiente (prima derivata) della funzione è zero, la hessiana può essere utilizzata per determinare la curvatura della superficie della funzione in quel punto.\n",
    "\n",
    "- Se tutti gli autovalori della hessiana sono positivi, la funzione è localmente convessa, e il punto è un minimo.\n",
    "- Se tutti gli autovalori sono negativi, la funzione è localmente concava, e il punto è un massimo.\n",
    "- Se ci sono autovalori positivi e negativi, la curvatura è mista, e il punto è un punto di sella.\n",
    "\n",
    "In ottimizzazione numerica, comprendere la curvatura della funzione obiettivo è importante per scegliere adeguate strategie di ottimizzazione. Ad esempio, metodi come il metodo di Newton utilizzano informazioni sulla curvatura attraverso la hessiana per determinare la direzione di discesa ottimale. Nel caso di algoritmi quasi-Newton, come il BFGS, si approssima la hessiana inversa per adattarsi alla curvatura della funzione senza dover calcolare esplicitamente la hessiana stessa."
   ]
  },
  {
   "cell_type": "code",
   "execution_count": 7,
   "metadata": {
    "colab": {
     "base_uri": "https://localhost:8080/",
     "height": 317
    },
    "executionInfo": {
     "elapsed": 4300,
     "status": "ok",
     "timestamp": 1670743211950,
     "user": {
      "displayName": "Francesco Regazzoni",
      "userId": "08593163129562527691"
     },
     "user_tz": -60
    },
    "id": "cAst_FKuPZoz",
    "outputId": "9a4a5e23-f687-4b1d-a3af-a3b0a1c579d5"
   },
   "outputs": [
    {
     "name": "stdout",
     "output_type": "stream",
     "text": [
      "epochs: 528\n",
      "error: 1.464e-12\n"
     ]
    },
    {
     "data": {
      "text/plain": [
       "[<matplotlib.lines.Line2D at 0x2891a964bd0>]"
      ]
     },
     "execution_count": 7,
     "metadata": {},
     "output_type": "execute_result"
    },
    {
     "data": {
      "image/png": "[encoded data removed]",
      "text/plain": [
       "<Figure size 640x480 with 1 Axes>"
      ]
     },
     "metadata": {},
     "output_type": "display_data"
    }
   ],
   "source": [
    "N = 100\n",
    "max_epochs = 1000\n",
    "tol = 1e-8\n",
    "\n",
    "np.random.seed(0)\n",
    "x_guess = np.random.rand(N)*2\n",
    "\n",
    "epoch = 0\n",
    "grad = grad_jit(x_guess)\n",
    "I = np.eye(N)\n",
    "Binv = I\n",
    "x = x_guess\n",
    "history = [loss_jit(x_guess)]\n",
    "\n",
    "while np.linalg.norm(grad) > tol and epoch < max_epochs:\n",
    "    epoch += 1\n",
    "    # search direction\n",
    "    p = - Binv @ grad\n",
    "    \n",
    "    # line search\n",
    "    line_search = sp.optimize.line_search(loss_jit, grad_jit, x, p)\n",
    "    alpha = line_search[0]\n",
    "    x_new = x + alpha * p\n",
    "\n",
    "    # computing y and s\n",
    "    s = x_new - x\n",
    "    x = x_new\n",
    "    grad_new = grad_jit(x_new)\n",
    "    y = grad_new - grad\n",
    "    grad = grad_new\n",
    "\n",
    "    # Sherman–Morrison update\n",
    "    rho = 1.0 / (np.dot(y, s))\n",
    "    E = I - rho * np.outer(y, s)\n",
    "    Binv = E.T @ Binv @ E + rho * np.outer(s, s)\n",
    "\n",
    "    history.append(loss_jit(x))\n",
    "\n",
    "x_ex = np.ones(N)\n",
    "err = x - x_ex\n",
    "\n",
    "print('epochs: %d' % epoch)\n",
    "print('error: %1.3e' % (np.linalg.norm(err) / np.linalg.norm(x_ex)))\n",
    "plt.semilogy(history, 'o-')"
   ]
  },
  {
   "cell_type": "code",
   "execution_count": null,
   "metadata": {},
   "outputs": [],
   "source": []
  }
 ],
 "metadata": {
  "colab": {
   "authorship_tag": "ABX9TyP+7l36ktRuDVTvLE3glNRa",
   "provenance": []
  },
  "kernelspec": {
   "display_name": "Python 3 (ipykernel)",
   "language": "python",
   "name": "python3"
  },
  "language_info": {
   "codemirror_mode": {
    "name": "ipython",
    "version": 3
   },
   "file_extension": ".py",
   "mimetype": "text/x-python",
   "name": "python",
   "nbconvert_exporter": "python",
   "pygments_lexer": "ipython3",
   "version": "3.11.4"
  }
 },
 "nbformat": 4,
 "nbformat_minor": 1
}
